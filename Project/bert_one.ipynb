{
 "cells": [
  {
   "cell_type": "code",
   "execution_count": 1,
   "id": "c3821dd7-c168-48b6-96fd-2a1ba7b5c3b0",
   "metadata": {},
   "outputs": [],
   "source": [
    "import pandas as pd\n",
    "from sklearn.model_selection import train_test_split\n",
    "\n",
    "# Load dataset\n",
    "data = pd.read_csv(\"data.csv\")\n",
    "\n",
    "def preprocess_data(data):\n",
    "    # Basic text cleaning, removing nulls, etc.\n",
    "    data = data.dropna()\n",
    "    data['content'] = data['content'].apply(lambda x: x.lower())\n",
    "    return data\n",
    "\n",
    "# Split the dataset into training and testing for validation\n",
    "train_data, test_data = train_test_split(data, test_size=0.2, random_state=42)"
   ]
  },
  {
   "cell_type": "code",
   "execution_count": 2,
   "id": "f7b86161-6e40-4083-9d4f-6ed1b40090c2",
   "metadata": {},
   "outputs": [
    {
     "data": {
      "text/html": [
       "<div>\n",
       "<style scoped>\n",
       "    .dataframe tbody tr th:only-of-type {\n",
       "        vertical-align: middle;\n",
       "    }\n",
       "\n",
       "    .dataframe tbody tr th {\n",
       "        vertical-align: top;\n",
       "    }\n",
       "\n",
       "    .dataframe thead th {\n",
       "        text-align: right;\n",
       "    }\n",
       "</style>\n",
       "<table border=\"1\" class=\"dataframe\">\n",
       "  <thead>\n",
       "    <tr style=\"text-align: right;\">\n",
       "      <th></th>\n",
       "      <th>label</th>\n",
       "      <th>user_id</th>\n",
       "      <th>item_id</th>\n",
       "      <th>rating</th>\n",
       "      <th>age</th>\n",
       "      <th>gender</th>\n",
       "    </tr>\n",
       "  </thead>\n",
       "  <tbody>\n",
       "    <tr>\n",
       "      <th>0</th>\n",
       "      <td>825</td>\n",
       "      <td>196</td>\n",
       "      <td>242</td>\n",
       "      <td>3</td>\n",
       "      <td>49</td>\n",
       "      <td>1</td>\n",
       "    </tr>\n",
       "    <tr>\n",
       "      <th>1</th>\n",
       "      <td>964</td>\n",
       "      <td>196</td>\n",
       "      <td>257</td>\n",
       "      <td>2</td>\n",
       "      <td>49</td>\n",
       "      <td>1</td>\n",
       "    </tr>\n",
       "    <tr>\n",
       "      <th>2</th>\n",
       "      <td>1537</td>\n",
       "      <td>196</td>\n",
       "      <td>111</td>\n",
       "      <td>4</td>\n",
       "      <td>49</td>\n",
       "      <td>1</td>\n",
       "    </tr>\n",
       "    <tr>\n",
       "      <th>3</th>\n",
       "      <td>178</td>\n",
       "      <td>196</td>\n",
       "      <td>25</td>\n",
       "      <td>4</td>\n",
       "      <td>49</td>\n",
       "      <td>1</td>\n",
       "    </tr>\n",
       "    <tr>\n",
       "      <th>4</th>\n",
       "      <td>24</td>\n",
       "      <td>196</td>\n",
       "      <td>382</td>\n",
       "      <td>4</td>\n",
       "      <td>49</td>\n",
       "      <td>1</td>\n",
       "    </tr>\n",
       "  </tbody>\n",
       "</table>\n",
       "</div>"
      ],
      "text/plain": [
       "   label  user_id  item_id  rating  age  gender\n",
       "0    825      196      242       3   49       1\n",
       "1    964      196      257       2   49       1\n",
       "2   1537      196      111       4   49       1\n",
       "3    178      196       25       4   49       1\n",
       "4     24      196      382       4   49       1"
      ]
     },
     "execution_count": 2,
     "metadata": {},
     "output_type": "execute_result"
    }
   ],
   "source": [
    "data.head()"
   ]
  },
  {
   "cell_type": "code",
   "execution_count": 3,
   "id": "815ead86-26d4-489a-a77a-ee53333cf924",
   "metadata": {},
   "outputs": [
    {
     "data": {
      "text/html": [
       "<div>\n",
       "<style scoped>\n",
       "    .dataframe tbody tr th:only-of-type {\n",
       "        vertical-align: middle;\n",
       "    }\n",
       "\n",
       "    .dataframe tbody tr th {\n",
       "        vertical-align: top;\n",
       "    }\n",
       "\n",
       "    .dataframe thead th {\n",
       "        text-align: right;\n",
       "    }\n",
       "</style>\n",
       "<table border=\"1\" class=\"dataframe\">\n",
       "  <thead>\n",
       "    <tr style=\"text-align: right;\">\n",
       "      <th></th>\n",
       "      <th>label</th>\n",
       "      <th>user_id</th>\n",
       "      <th>item_id</th>\n",
       "      <th>rating</th>\n",
       "      <th>age</th>\n",
       "      <th>gender</th>\n",
       "    </tr>\n",
       "  </thead>\n",
       "  <tbody>\n",
       "    <tr>\n",
       "      <th>99995</th>\n",
       "      <td>1500</td>\n",
       "      <td>873</td>\n",
       "      <td>313</td>\n",
       "      <td>5</td>\n",
       "      <td>48</td>\n",
       "      <td>0</td>\n",
       "    </tr>\n",
       "    <tr>\n",
       "      <th>99996</th>\n",
       "      <td>577</td>\n",
       "      <td>873</td>\n",
       "      <td>326</td>\n",
       "      <td>4</td>\n",
       "      <td>48</td>\n",
       "      <td>0</td>\n",
       "    </tr>\n",
       "    <tr>\n",
       "      <th>99997</th>\n",
       "      <td>407</td>\n",
       "      <td>873</td>\n",
       "      <td>348</td>\n",
       "      <td>3</td>\n",
       "      <td>48</td>\n",
       "      <td>0</td>\n",
       "    </tr>\n",
       "    <tr>\n",
       "      <th>99998</th>\n",
       "      <td>1369</td>\n",
       "      <td>873</td>\n",
       "      <td>358</td>\n",
       "      <td>2</td>\n",
       "      <td>48</td>\n",
       "      <td>0</td>\n",
       "    </tr>\n",
       "    <tr>\n",
       "      <th>99999</th>\n",
       "      <td>928</td>\n",
       "      <td>873</td>\n",
       "      <td>342</td>\n",
       "      <td>4</td>\n",
       "      <td>48</td>\n",
       "      <td>0</td>\n",
       "    </tr>\n",
       "  </tbody>\n",
       "</table>\n",
       "</div>"
      ],
      "text/plain": [
       "       label  user_id  item_id  rating  age  gender\n",
       "99995   1500      873      313       5   48       0\n",
       "99996    577      873      326       4   48       0\n",
       "99997    407      873      348       3   48       0\n",
       "99998   1369      873      358       2   48       0\n",
       "99999    928      873      342       4   48       0"
      ]
     },
     "execution_count": 3,
     "metadata": {},
     "output_type": "execute_result"
    }
   ],
   "source": [
    "data.tail()"
   ]
  },
  {
   "cell_type": "code",
   "execution_count": 4,
   "id": "d49cac3b-e23f-438e-8225-d6d668434cf8",
   "metadata": {},
   "outputs": [
    {
     "name": "stdout",
     "output_type": "stream",
     "text": [
      "Requirement already satisfied: transformers in /Users/jayasakthibalajig/Sakthi/Anaconda/anaconda3/lib/python3.11/site-packages (4.46.1)\n",
      "Requirement already satisfied: torch in /Users/jayasakthibalajig/Sakthi/Anaconda/anaconda3/lib/python3.11/site-packages (2.2.1)\n",
      "Requirement already satisfied: filelock in /Users/jayasakthibalajig/Sakthi/Anaconda/anaconda3/lib/python3.11/site-packages (from transformers) (3.13.1)\n",
      "Requirement already satisfied: huggingface-hub<1.0,>=0.23.2 in /Users/jayasakthibalajig/Sakthi/Anaconda/anaconda3/lib/python3.11/site-packages (from transformers) (0.26.2)\n",
      "Requirement already satisfied: numpy>=1.17 in /Users/jayasakthibalajig/Sakthi/Anaconda/anaconda3/lib/python3.11/site-packages (from transformers) (1.26.4)\n",
      "Requirement already satisfied: packaging>=20.0 in /Users/jayasakthibalajig/Sakthi/Anaconda/anaconda3/lib/python3.11/site-packages (from transformers) (23.1)\n",
      "Requirement already satisfied: pyyaml>=5.1 in /Users/jayasakthibalajig/Sakthi/Anaconda/anaconda3/lib/python3.11/site-packages (from transformers) (6.0.1)\n",
      "Requirement already satisfied: regex!=2019.12.17 in /Users/jayasakthibalajig/Sakthi/Anaconda/anaconda3/lib/python3.11/site-packages (from transformers) (2023.10.3)\n",
      "Requirement already satisfied: requests in /Users/jayasakthibalajig/Sakthi/Anaconda/anaconda3/lib/python3.11/site-packages (from transformers) (2.31.0)\n",
      "Requirement already satisfied: safetensors>=0.4.1 in /Users/jayasakthibalajig/Sakthi/Anaconda/anaconda3/lib/python3.11/site-packages (from transformers) (0.4.5)\n",
      "Requirement already satisfied: tokenizers<0.21,>=0.20 in /Users/jayasakthibalajig/Sakthi/Anaconda/anaconda3/lib/python3.11/site-packages (from transformers) (0.20.1)\n",
      "Requirement already satisfied: tqdm>=4.27 in /Users/jayasakthibalajig/Sakthi/Anaconda/anaconda3/lib/python3.11/site-packages (from transformers) (4.65.0)\n",
      "Requirement already satisfied: typing-extensions>=4.8.0 in /Users/jayasakthibalajig/Sakthi/Anaconda/anaconda3/lib/python3.11/site-packages (from torch) (4.9.0)\n",
      "Requirement already satisfied: sympy in /Users/jayasakthibalajig/Sakthi/Anaconda/anaconda3/lib/python3.11/site-packages (from torch) (1.12)\n",
      "Requirement already satisfied: networkx in /Users/jayasakthibalajig/Sakthi/Anaconda/anaconda3/lib/python3.11/site-packages (from torch) (3.1)\n",
      "Requirement already satisfied: jinja2 in /Users/jayasakthibalajig/Sakthi/Anaconda/anaconda3/lib/python3.11/site-packages (from torch) (3.1.3)\n",
      "Requirement already satisfied: fsspec in /Users/jayasakthibalajig/Sakthi/Anaconda/anaconda3/lib/python3.11/site-packages (from torch) (2023.10.0)\n",
      "Requirement already satisfied: MarkupSafe>=2.0 in /Users/jayasakthibalajig/Sakthi/Anaconda/anaconda3/lib/python3.11/site-packages (from jinja2->torch) (2.1.3)\n",
      "Requirement already satisfied: charset-normalizer<4,>=2 in /Users/jayasakthibalajig/Sakthi/Anaconda/anaconda3/lib/python3.11/site-packages (from requests->transformers) (2.0.4)\n",
      "Requirement already satisfied: idna<4,>=2.5 in /Users/jayasakthibalajig/Sakthi/Anaconda/anaconda3/lib/python3.11/site-packages (from requests->transformers) (3.4)\n",
      "Requirement already satisfied: urllib3<3,>=1.21.1 in /Users/jayasakthibalajig/Sakthi/Anaconda/anaconda3/lib/python3.11/site-packages (from requests->transformers) (1.26.18)\n",
      "Requirement already satisfied: certifi>=2017.4.17 in /Users/jayasakthibalajig/Sakthi/Anaconda/anaconda3/lib/python3.11/site-packages (from requests->transformers) (2024.2.2)\n",
      "Requirement already satisfied: mpmath>=0.19 in /Users/jayasakthibalajig/Sakthi/Anaconda/anaconda3/lib/python3.11/site-packages (from sympy->torch) (1.3.0)\n",
      "Note: you may need to restart the kernel to use updated packages.\n"
     ]
    }
   ],
   "source": [
    "pip install transformers torch"
   ]
  },
  {
   "cell_type": "code",
   "execution_count": 5,
   "id": "ca625b85-b71f-4ad1-ac21-9ba92c2b2c52",
   "metadata": {},
   "outputs": [
    {
     "name": "stdout",
     "output_type": "stream",
     "text": [
      "Generated user profile embedding: [2.2997635416686535, -2.221711292862892, 0.43990885093808174, 0.6794716771692038, 4.99584760889411, -3.6181503161787987, -1.3968738839030266, 6.333293907344341, -1.3483788575977087, -0.5624114535748959, -3.4109076261520386, -5.894426643848419, -0.6846677511930466, 5.5592289455235, 1.8700294867157936, 5.654311317950487, 1.4581515453755856, 2.380029510706663, -0.6847791746258736, 1.8626803942024708, -0.7609139233827591, 0.04569661244750023, 1.6671300316229463, 4.690282806754112, 1.0691000372171402, -1.6224539428949356, -0.02488638274371624, 2.304868008941412, -3.0459411218762398, -2.668771767988801, 1.7533944845199585, 2.3879073709249496, -5.254429325461388, 0.3138982206583023, -1.3372284173965454, -0.9340481162071228, -2.27975257858634, -0.38485778495669365, 0.5757389701902866, 0.31044165045022964, -4.111719332635403, -3.7665899619460106, 3.000264450907707, -1.6897465586662292, 1.934307735413313, -6.212683007121086, 1.821560576558113, -0.8073903024196625, -1.5370834916830063, 0.46077146381139755, 1.789303943514824, 2.551614634692669, 1.7018354954198003, -1.903273280709982, 5.550250619649887, 12.722906440496445, -0.512964516878128, -5.739411044865847, -2.0573081746697426, 2.3206458166241646, 5.050952732563019, 2.723040610551834, 0.8131569502875209, -5.720700621604919, 2.126393586397171, 1.2589301094412804, -2.80835029669106, 1.825502721592784, -4.100271850824356, -1.2796369343996048, -3.500758707523346, 1.090817704796791, -0.2354338839650154, -0.8114229254424572, -0.25248947739601135, 0.33596086874604225, 1.1022015467751771, 4.925013855099678, -1.1211488246917725, -3.1351209729909897, -0.7072369400411844, 8.252657949924469, 3.0418138243258, 8.331018596887589, 0.0022837957367300987, -0.5123278014361858, -2.3516971692442894, -2.807623639702797, -0.01262606680393219, 6.353373888880014, -0.7428421601653099, -4.521811403334141, 3.814953977242112, 1.3592065181583166, 6.4747733771800995, -4.1118550933897495, -2.7747543081641197, 0.9261829536408186, -2.2841953486204147, 5.867405258119106, -0.9800155274569988, -1.079603910446167, -3.7748783603310585, 1.607679083943367, -3.033787578344345, 0.9405928459018469, 2.8966269996017218, 0.9828235134482384, -1.563754104077816, 2.424912966787815, 0.5857360400259495, -0.021361667662858963, 2.6067497609183192, -2.509699696674943, -5.59131583571434, -0.17891829833388329, -0.5866181198507547, -1.9152449294924736, -1.421204898506403, 4.861928284168243, -1.5997993033379316, -2.6486569344997406, -0.12420631293207407, 12.199323236942291, -0.1128561943769455, 5.016496255993843, 0.4559264909476042, 1.5642042141407728, 0.33589261025190353, -6.053173862397671, 5.697968907654285, 5.428804777562618, 1.421012126840651, -3.725870616734028, -0.8316962365061045, 2.4107697270810604, 1.0102522522211075, -3.2865797970443964, -5.224722608923912, 0.9442274300381541, 1.2058995068073273, -3.6040051504969597, -0.9397480338811874, -1.3679071888327599, 3.7988732289522886, 0.33339445292949677, 0.12311998708173633, -2.3157121296972036, -1.0482176952064037, -0.07150047644972801, 0.30818394757807255, -0.2541520968079567, -4.554764211177826, -5.132987707853317, -3.9220565631985664, 3.005189225077629, -0.8125160373747349, 2.8220186978578568, 5.328765004873276, 1.9501851499080658, 5.219394892454147, -4.8267526887357235, -2.5718099419027567, 2.3888787608593702, 1.2514106184244156, -2.512107338756323, -0.6688795648515224, 2.0704015903174877, 1.2345823384821415, 3.5988911651074886, -2.035882782191038, 1.4893267638981342, 7.076237916946411, -3.6879342375323176, 0.9546425677835941, -1.8546064551919699, 0.43550632521510124, 2.7765350323170424, -0.2897700034081936, 0.5604741927236319, -16.30867737531662, 2.0926791429519653, 2.1448563933372498, -0.48584378603845835, -2.3299421072006226, -5.038544423878193, 1.3801496475934982, -4.314932428300381, 1.3625268377363682, 0.7230684161186218, 0.4144911356270313, 0.7274914309382439, -7.233233407139778, -1.5688921995460987, 7.109904617071152, -6.965583771467209, -0.5913499984890223, -0.8850909173488617, -3.209451165050268, -1.1504688281565905, 3.0748655050992966, -1.4769208636134863, 2.071383323520422, 2.16104706376791, -5.316676493734121, -1.7129583545029163, -0.06507822871208191, -1.8377371281385422, -2.899359855800867, 1.735329620540142, -4.132207423448563, 7.288339897990227, 3.6436388213187456, 0.653431972488761, 2.6275382032617927, -0.685183160007, -4.706512678414583, 0.24614911526441574, -1.7806781250983477, 2.2674209624528885, 0.5501564126461744, -0.9571684561669827, -7.135928429663181, 4.366238437592983, -3.0241254195570946, 6.9124108254909515, 0.14781983382999897, -2.7922395765781403, 1.7897507511079311, 1.0450624227523804, -0.8283635675907135, -2.317577637732029, 5.392754964530468, 0.1772957295179367, -3.6009766533970833, 3.297576390206814, -2.765013247728348, -1.0475767869502306, 0.6131839007139206, -2.419636727310717, -3.0201810970902443, 3.2413443755358458, 2.2073405608534813, 3.997785210609436, 3.857582211494446, -2.4296060502529144, 1.065533198416233, 2.348087638616562, -4.082897149026394, -1.611580066382885, -2.6315105967223644, -2.227700889110565, -0.3011433444917202, -6.904390700161457, 3.400565594434738, -3.266782820224762, 0.34051078744232655, -0.3558978158980608, 0.4497830718755722, -0.23254070058465004, 1.5871068686246872, 0.3906267583370209, 2.1010070852935314, 1.141634151339531, -8.139528214931488, -4.7398373037576675, -0.871629036962986, 1.6372561696916819, 0.35089994966983795, 5.4745504185557365, -1.3064301200211048, -1.6931556686758995, 1.074288658797741, 4.40370300412178, -1.3657310009002686, -5.662411794066429, 4.186884120106697, 3.6654913052916527, 0.9144669584929943, -0.8547119498252869, 3.897262193262577, 6.389639928936958, -3.9165022000670433, 2.2502832300961018, -6.564325138926506, -2.6620135717093945, 0.45546503365039825, 2.0973504558205605, -2.579078257083893, -4.70804487913847, -0.23231530748307705, 0.8168659135699272, -3.4674871042370796, -1.7072831094264984, 3.659580498933792, -1.2518159598112106, 0.2626710757613182, 2.9843678548932076, -0.5577416587620974, -4.527845146134496, -2.0599649203941226, -2.1576833203434944, 0.7978020645678043, -0.6840720176696777, 0.353661697357893, 4.6421371549367905, -0.14759554341435432, -4.60485427826643, -44.52049708366394, -2.1344330087304115, -1.5328903701156378, -2.469649702310562, 0.9748850055038929, -1.0634264945983887, -1.0088747553527355, -1.6545705907046795, -5.731943145394325, 1.4373163459822536, -2.9044253397732973, -0.6177636766806245, 4.3042197823524475, 3.264346458017826, 4.022656351327896, 2.8854553885757923, 1.455900028347969, 1.185637928545475, -5.871180012822151, 6.258833430707455, -0.15586905553936958, -2.8961067758500576, 2.9489858224987984, -0.9108480736613274, 5.547136016190052, 2.8984149042516947, -3.515839733183384, 1.6374091506004333, -3.0941969975829124, -3.211333155632019, -0.565810889005661, 0.21362295001745224, -1.7545197419822216, 3.6738705709576607, 2.4910299461334944, 1.7279614992439747, 2.8041604589670897, 1.3543332293629646, 0.5912996269762516, -1.545714907348156, -4.674376480281353, -5.011435739696026, -3.364550046622753, 1.453222548123449, 7.553863734006882, -4.514569669961929, 0.30624500662088394, 0.7010997347533703, -0.3975930172018707, 0.897490244358778, 1.1041097715497017, -0.9055792111903429, -3.924240753054619, -1.7570900656282902, 5.030099965631962, -2.2204741211608052, 3.7112145386636257, 3.93447332829237, -4.8738709688186646, -2.916850473731756, 2.1922183632850647, 0.5030059237033129, -7.931979771703482, 1.3735429272055626, -3.4610460102558136, -3.8396707847714424, -8.411335457116365, -8.096424609422684, 2.144458164460957, 1.8122663162648678, 0.045163363218307495, 1.7298851013183594, 0.29456829465925694, -12.73626857995987, -0.33471009507775307, 0.31295407749712467, -0.31060589477419853, 2.924895539879799, 1.3435786981135607, 0.4579289648681879, -6.374198794364929, -4.109066296368837, -2.269550859928131, 2.5026643071323633, -3.936386253684759, -2.091486755758524, 1.3346365913748741, -5.790145009756088, -4.459751775488257, -2.672375660389662, -1.6601288728415966, 1.3228843547403812, 2.1901779621839523, 3.1304120142012835, 0.8152165859937668, -4.385366588830948, 4.649956658482552, -3.3208832666277885, 3.5721048712730408, -2.314849365502596, 2.6269836500287056, -4.63459132425487, 5.391237817704678, -4.768911965191364, -3.241080366075039, 3.687559114769101, 1.7389959245920181, 2.2847440987825394, 0.7785233212634921, -0.2785211615264416, 1.6375715155154467, -5.825401462614536, 5.045058909803629, -0.7209153771400452, -0.9447388667613268, -0.13170801103115082, 2.295099198818207, 8.215450704097748, -1.7906136140227318, 2.616235423833132, -2.768628738820553, 5.941303104162216, -3.6474148333072662, -4.766053915023804, 1.9061789363622665, 2.0766755770891905, -2.495417505502701, -3.827520951628685, -0.14694351702928543, -1.962924998253584, -2.980967627838254, -2.11496015265584, 3.1246632132679224, -0.5174562707543373, 3.1363649666309357, -2.1509324200451374, -2.3526536598801613, -1.0542021449655294, 0.8919053487479687, -0.3216809220612049, 3.9139276146888733, 0.7837363481521606, 2.4789819605648518, 2.281750090420246, 0.09353163838386536, 2.886972974985838, 2.8504699394106865, 0.8772097267210484, -0.8515816498547792, 0.9125539977103472, -2.8843549117445946, -3.0252421125769615, 0.8540463615208864, -1.863110825419426, 4.932038709521294, -0.4564000740647316, -0.17673778533935547, -0.7129231318831444, -1.1694549852982163, -8.152417331933975, 2.5033829994499683, -0.4249640852212906, 3.7782385274767876, 4.169987589120865, -4.218390762805939, 4.991495355963707, -4.713349997997284, -0.5982524687424302, -3.3192168287932873, 0.485162153840065, 0.7402221029624343, -1.4043835774064064, -2.0589252822101116, -3.552639454603195, -3.8036652877926826, 2.2961441688239574, -3.51894748210907, -2.1088777631521225, -4.124813735485077, 3.5519697703421116, -0.5080104181542993, -1.3197208940982819, -1.8647912107408047, -0.5631243232637644, 1.8648566231131554, 5.06348267942667, -0.16870687156915665, -0.8583644200116396, -3.4616168942302465, 3.955287327989936, -0.6978453546762466, 5.450294002890587, -1.9356068223714828, -4.6701932698488235, -3.1837196964770555, -1.0710174571722746, 1.5584431327879429, -0.8840089403092861, 4.412618458271027, -1.526945298537612, 4.932415038347244, 1.016190867871046, -2.810196202248335, 1.1383501589298248, -1.1310269050300121, 2.856177255511284, 3.216999977827072, 0.6380690783262253, -0.36335449665784836, 2.365312375128269, -2.071757286787033, -5.444071289151907, -1.5678831860423088, -4.620016820728779, 3.4720822386443615, 0.17527911067008972, 1.9637276642024517, -1.674943059682846, -1.0738162845373154, -0.2614975683391094, -4.327070886269212, -4.42207732796669, 0.7722756564617157, 0.39817569963634014, -4.454777479171753, -4.176353752613068, 3.240109233185649, -0.6130079608410597, -6.559448719024658, -0.9258448239415884, -0.9084922969341278, -1.6032119747251272, -0.054909102618694305, -1.501147571951151, 2.6127454414963722, 2.875005930662155, -3.2330626286566257, -4.880978664383292, 1.912730135023594, -2.7248666752129793, -1.074130680412054, -2.0010534804314375, 3.4048089776188135, -1.9164074771106243, 2.7462532818317413, 2.844798231497407, -2.956463860347867, 4.669622546993196, -8.085292050614953, 1.760644681751728, -2.374860357493162, -1.656182823702693, -0.028069131076335907, -1.6614681370556355, -1.6753085348755121, -13.714368104934692, -2.415247619152069, 2.4193517602980137, -1.4224173612892628, -1.3723304634913802, -0.8888034671545029, -1.3854872845113277, -1.4313999265432358, 3.9463753383606672, 2.490405272692442, 2.3672943711280823, 1.6306030545383692, 1.4170272648334503, 0.19055413082242012, -0.9444620683789253, -0.08785036019980907, 0.9728394076228142, 2.7886854261159897, 2.315005710348487, -6.547157414257526, 4.316089868545532, -2.104487806558609, -6.8263968378305435, -2.6879421547055244, -3.645456697791815, 1.9203218817710876, 5.144920850172639, -1.0404279008507729, -2.9865942001342773, 1.1656695306301117, -4.517040196806192, 2.7239074297249317, 3.7090288549661636, -1.2318142727017403, 0.6629112362861633, 1.9892923473380506, -1.8655183389782906, -2.557497426867485, 3.6809437833726406, 2.8236765414476395, 0.8001542240381241, 1.9774352498352528, -0.9870112175121903, -1.592745192348957, 1.484648322686553, -5.668018069118261, 3.0447140000760555, 2.507527096197009, 2.293495699763298, -1.4265049658715725, 1.657040135934949, 0.6972799487411976, -3.6090762317180634, 1.370803251862526, 3.7297655045986176, -2.536702997982502, -1.6124121360480785, 2.239445826970041, 5.243811596184969, -1.3442504927515984, -0.8055304288864136, -0.5476921945810318, -1.0995752029120922, -0.43867484852671623, 3.0162496119737625, 2.5289750592783093, -0.011133000254631042, 7.128748044371605, -4.692221583798528, 3.387584313750267, 3.1149076223373413, -4.518468730151653, -1.2028862796723843, 0.32004107534885406, 1.1425116434693336, -2.2234533093869686, 2.040070939809084, -2.8672231510281563, 8.952672302722931, -3.7088979184627533, -0.5589938685297966, -1.283230684697628, 3.4705588966608047, 2.930293634533882, 1.3223767392337322, 1.4358233250677586, -0.7156636267900467, 4.256710425019264, 9.042038187384605, 2.982528641819954, 2.484618119895458, 2.6180915907025337, -1.1514042094349861, 3.932172954082489, 2.5732717886567116, 2.1368173928931355, 1.2677063383162022, 0.8532767165452242, 0.9986088499426842, 1.5649498850107193, -4.664796471595764, 1.794191613793373, 3.099444068968296, -0.022046741098165512, 1.6814407743513584, 3.4057013243436813, -0.8912178352475166, 4.972037324681878, -8.884648650884628, 5.839928030967712, 7.781845390796661, 0.9097985476255417, -1.7602172382175922, -4.352875031530857, -2.6303116977214813, 4.113845187239349, 6.394277650862932, -0.12750525027513504, -2.3869931381195784, 0.29152176156640053, 6.069527104496956, 0.3023393452167511, -0.954626576974988, -5.153821676969528, -1.137617565691471, 1.7589318677783012, 3.3353604078292847, -6.605397179722786, -4.708253398537636, 2.1501985639333725, -6.948576986789703, -0.7482504099607468, -0.3160827048122883, 3.5401711091399193, -6.706542864441872, -0.1143006756901741, -0.8410191088914871, 1.8175843432545662, -4.656432099640369, -1.3310624584555626, -1.3650038577616215, 5.416621193289757, 3.931679420173168, 1.4520539343357086, 2.204976372420788, 0.5888764262199402, -3.7085623703897, -2.153447836637497, -1.0151675511151552, -1.0134858787059784, -0.3002258278429508, -3.2246941328048706, 2.7307564467191696, -3.226235292851925, -1.079530492424965, 3.073760287836194, 4.535833194851875, -7.906951934099197, 0.5384973660111427, 3.2316959761083126, 2.7185001969337463, 5.926402069628239, 1.384199047461152, 1.0996731612831354, 1.610139213502407, -2.2152853459119797, -4.3413907662034035, 2.199776215478778, 1.7404923737049103, -4.980106845498085, -0.1883603148162365, -2.314086191356182, 3.12651090323925, 2.8152658250182867, -2.867700807750225, -4.431109711527824, 2.0717121064662933, -0.16812331974506378, 1.8715925514698029, 0.9536016546189785, -0.3773404359817505, -0.3365853652358055, 4.506513878703117, -3.07433046028018, -3.751657512038946, -1.292215770110488, 0.5045587085187435, 4.584957767277956, 0.5722269788384438, -3.688955880701542, -2.9773137345910072, 1.4652627557516098, -0.051865508779883385, 1.2019624933600426, -3.538164898753166, -0.6339002177119255, -0.5635076314210892, 0.019555479288101196, -1.0954562034457922, -0.9290804546326399, 2.9951592683792114, 2.5547945238649845, -1.9538726741448045, 5.046946540474892, -2.859620587900281]\n"
     ]
    }
   ],
   "source": [
    "# Import the required pipeline function from transformers\n",
    "from transformers import pipeline\n",
    "\n",
    "# # Load profile generator model using sentence-transformers for embeddings\n",
    "# profile_model = pipeline(\"feature-extraction\", model=\"sentence-transformers/all-MiniLM-L6-v2\", device=0)\n",
    "\n",
    "# def generate_user_profile(user_data):\n",
    "#     user_embedding = profile_model(user_data)\n",
    "#     return user_embedding\n",
    "\n",
    "# Load DistilBERT model for feature extraction (embedding generation)\n",
    "profile_model = pipeline(\"feature-extraction\", model=\"distilbert-base-uncased\", device=0)\n",
    "\n",
    "def generate_user_profile(user_data):\n",
    "    # Generate embeddings for the user data using DistilBERT\n",
    "    user_embedding = profile_model(user_data)\n",
    "    # Flatten the embedding to a 1D vector (optional, depending on your needs)\n",
    "    user_embedding = [sum(token_embedding) for token_embedding in zip(*user_embedding[0])]\n",
    "    return user_embedding\n",
    "\n",
    "# Example usage\n",
    "user_profile = generate_user_profile(\"User is interested in action and sci-fi movies\")\n",
    "print(\"Generated user profile embedding:\", user_profile)\n"
   ]
  },
  {
   "cell_type": "code",
   "execution_count": 6,
   "id": "ce844238-25f8-4297-923a-0264bfd7b17c",
   "metadata": {},
   "outputs": [],
   "source": [
    "# content based feedback\n",
    "from sklearn.metrics.pairwise import cosine_similarity\n",
    "\n",
    "# Assuming each item (movie/book) is also represented as an embedding\n",
    "def recommend_content(user_profile, content_embeddings, content_titles):\n",
    "    # Compute similarity between user profile and each content item\n",
    "    similarities = cosine_similarity([user_profile], content_embeddings)[0]\n",
    "    # Get top recommendations\n",
    "    top_indices = similarities.argsort()[-5:][::-1]\n",
    "    recommendations = [content_titles[i] for i in top_indices]\n",
    "    return recommendations\n"
   ]
  },
  {
   "cell_type": "code",
   "execution_count": 7,
   "id": "3aff156f-a98f-4dcf-9870-4ac91c7a6a5c",
   "metadata": {},
   "outputs": [],
   "source": [
    "# content based\n",
    "# Simulate user feedback and adjust recommendations based on feedback\n",
    "def get_feedback(recommendations, user_feedback):\n",
    "    # User_feedback is a dictionary with content as key and feedback as value (e.g., liked/disliked)\n",
    "    adjusted_recs = [rec for rec in recommendations if user_feedback.get(rec, 'liked') == 'liked']\n",
    "    return adjusted_recs"
   ]
  },
  {
   "cell_type": "code",
   "execution_count": 8,
   "id": "37e05120-f593-425c-be49-ff816d5929d4",
   "metadata": {},
   "outputs": [
    {
     "name": "stderr",
     "output_type": "stream",
     "text": [
      "huggingface/tokenizers: The current process just got forked, after parallelism has already been used. Disabling parallelism to avoid deadlocks...\n",
      "To disable this warning, you can either:\n",
      "\t- Avoid using `tokenizers` before the fork if possible\n",
      "\t- Explicitly set the environment variable TOKENIZERS_PARALLELISM=(true | false)\n"
     ]
    },
    {
     "name": "stdout",
     "output_type": "stream",
     "text": [
      "Requirement already satisfied: torch in /Users/jayasakthibalajig/Sakthi/Anaconda/anaconda3/lib/python3.11/site-packages (2.2.1)\n",
      "Requirement already satisfied: filelock in /Users/jayasakthibalajig/Sakthi/Anaconda/anaconda3/lib/python3.11/site-packages (from torch) (3.13.1)\n",
      "Requirement already satisfied: typing-extensions>=4.8.0 in /Users/jayasakthibalajig/Sakthi/Anaconda/anaconda3/lib/python3.11/site-packages (from torch) (4.9.0)\n",
      "Requirement already satisfied: sympy in /Users/jayasakthibalajig/Sakthi/Anaconda/anaconda3/lib/python3.11/site-packages (from torch) (1.12)\n",
      "Requirement already satisfied: networkx in /Users/jayasakthibalajig/Sakthi/Anaconda/anaconda3/lib/python3.11/site-packages (from torch) (3.1)\n",
      "Requirement already satisfied: jinja2 in /Users/jayasakthibalajig/Sakthi/Anaconda/anaconda3/lib/python3.11/site-packages (from torch) (3.1.3)\n",
      "Requirement already satisfied: fsspec in /Users/jayasakthibalajig/Sakthi/Anaconda/anaconda3/lib/python3.11/site-packages (from torch) (2023.10.0)\n",
      "Requirement already satisfied: MarkupSafe>=2.0 in /Users/jayasakthibalajig/Sakthi/Anaconda/anaconda3/lib/python3.11/site-packages (from jinja2->torch) (2.1.3)\n",
      "Requirement already satisfied: mpmath>=0.19 in /Users/jayasakthibalajig/Sakthi/Anaconda/anaconda3/lib/python3.11/site-packages (from sympy->torch) (1.3.0)\n",
      "Note: you may need to restart the kernel to use updated packages.\n"
     ]
    }
   ],
   "source": [
    "pip install torch"
   ]
  },
  {
   "cell_type": "code",
   "execution_count": 12,
   "id": "c17f5ae5-19c6-42e0-8afd-43654cb76197",
   "metadata": {},
   "outputs": [
    {
     "name": "stdout",
     "output_type": "stream",
     "text": [
      "Confusion Matrix:\n",
      " [[29 20]\n",
      " [24 27]]\n"
     ]
    }
   ],
   "source": [
    "from sklearn.metrics import confusion_matrix\n",
    "import numpy as np\n",
    "\n",
    "# Simulate user feedback on recommendations\n",
    "y_true = np.random.choice([1, 0], size=100)  # 1: liked, 0: disliked\n",
    "y_pred = np.random.choice([1, 0], size=100)  # 1: recommended, 0: not recommended\n",
    "\n",
    "# Generate confusion matrix\n",
    "conf_matrix = confusion_matrix(y_true, y_pred)\n",
    "print(\"Confusion Matrix:\\n\", conf_matrix)\n"
   ]
  },
  {
   "cell_type": "code",
   "execution_count": 13,
   "id": "387b551d-2e51-4118-99a4-9b76e0ae0046",
   "metadata": {},
   "outputs": [
    {
     "data": {
      "image/png": "[encoded data removed]",
      "text/plain": [
       "<Figure size 600x400 with 1 Axes>"
      ]
     },
     "metadata": {},
     "output_type": "display_data"
    }
   ],
   "source": [
    "%matplotlib inline\n",
    "import numpy as np\n",
    "import matplotlib.pyplot as plt\n",
    "import seaborn as sns\n",
    "from sklearn.metrics import confusion_matrix\n",
    "\n",
    "# Simulate user feedback on recommendations\n",
    "y_true = np.random.choice([1, 0], size=100)  # 1: liked, 0: disliked\n",
    "y_pred = np.random.choice([1, 0], size=100)  # 1: recommended, 0: not recommended\n",
    "\n",
    "# Generate confusion matrix\n",
    "conf_matrix = confusion_matrix(y_true, y_pred)\n",
    "\n",
    "# Plotting the confusion matrix\n",
    "plt.figure(figsize=(6, 4))\n",
    "sns.heatmap(conf_matrix, annot=True, fmt=\"d\", cmap=\"Blues\", cbar=False)\n",
    "plt.xlabel(\"Predicted Labels\")\n",
    "plt.ylabel(\"True Labels\")\n",
    "plt.title(\"Confusion Matrix\")\n",
    "\n",
    "# Save the plot as an image\n",
    "plt.savefig(\"confusion_matrix.png\")\n",
    "\n",
    "# To display in notebooks if interactive mode is on\n",
    "plt.show()"
   ]
  },
  {
   "cell_type": "code",
   "execution_count": 14,
   "id": "4aebff4d-f44c-451f-924c-0adfe8a04b10",
   "metadata": {},
   "outputs": [
    {
     "name": "stdout",
     "output_type": "stream",
     "text": [
      "Accuracy: 0.57\n",
      "F1 Score: 0.64\n"
     ]
    }
   ],
   "source": [
    "from sklearn.metrics import accuracy_score, f1_score\n",
    "\n",
    "# Assuming y_true and y_pred are already defined as your ground truth labels and model predictions\n",
    "accuracy = accuracy_score(y_true, y_pred)\n",
    "f1 = f1_score(y_true, y_pred)\n",
    "\n",
    "print(f\"Accuracy: {accuracy:.2f}\")\n",
    "print(f\"F1 Score: {f1:.2f}\")"
   ]
  },
  {
   "cell_type": "code",
   "execution_count": 15,
   "id": "f758322a-ec7a-4606-b3b4-2676513263fe",
   "metadata": {},
   "outputs": [
    {
     "name": "stdout",
     "output_type": "stream",
     "text": [
      "Model saved at ./profile_generator_model\n"
     ]
    }
   ],
   "source": [
    "# Save the model and tokenizer\n",
    "model_path = \"./profile_generator_model\"\n",
    "profile_model.model.save_pretrained(model_path)\n",
    "profile_model.tokenizer.save_pretrained(model_path)\n",
    "\n",
    "print(f\"Model saved at {model_path}\")\n"
   ]
  },
  {
   "cell_type": "code",
   "execution_count": null,
   "id": "65187ab3-0a6e-4775-8a24-626a8ff5656a",
   "metadata": {},
   "outputs": [],
   "source": []
  }
 ],
 "metadata": {
  "kernelspec": {
   "display_name": "Python 3 (ipykernel)",
   "language": "python",
   "name": "python3"
  },
  "language_info": {
   "codemirror_mode": {
    "name": "ipython",
    "version": 3
   },
   "file_extension": ".py",
   "mimetype": "text/x-python",
   "name": "python",
   "nbconvert_exporter": "python",
   "pygments_lexer": "ipython3",
   "version": "3.11.7"
  }
 },
 "nbformat": 4,
 "nbformat_minor": 5
}
