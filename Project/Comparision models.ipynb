{
 "cells": [
  {
   "cell_type": "code",
   "execution_count": 1,
   "metadata": {},
   "outputs": [],
   "source": [
    "# Importing libraries\n",
    "\n",
    "from __future__ import print_function\n",
    "import pandas as pd\n",
    "import numpy as np\n",
    "import matplotlib.pyplot as plt\n",
    "import seaborn as sns\n",
    "from sklearn.metrics import classification_report\n",
    "from sklearn import metrics\n",
    "from sklearn import tree\n",
    "import warnings\n",
    "warnings.filterwarnings('ignore')"
   ]
  },
  {
   "cell_type": "code",
   "execution_count": 2,
   "metadata": {},
   "outputs": [],
   "source": [
    "df = pd.read_csv('/Users/jayasakthibalajig/Sakthi/AI T&E/data.csv')"
   ]
  },
  {
   "cell_type": "code",
   "execution_count": 3,
   "metadata": {},
   "outputs": [
    {
     "data": {
      "text/html": [
       "<div>\n",
       "<style scoped>\n",
       "    .dataframe tbody tr th:only-of-type {\n",
       "        vertical-align: middle;\n",
       "    }\n",
       "\n",
       "    .dataframe tbody tr th {\n",
       "        vertical-align: top;\n",
       "    }\n",
       "\n",
       "    .dataframe thead th {\n",
       "        text-align: right;\n",
       "    }\n",
       "</style>\n",
       "<table border=\"1\" class=\"dataframe\">\n",
       "  <thead>\n",
       "    <tr style=\"text-align: right;\">\n",
       "      <th></th>\n",
       "      <th>label</th>\n",
       "      <th>age</th>\n",
       "      <th>gender</th>\n",
       "      <th>Action</th>\n",
       "      <th>Adventure</th>\n",
       "      <th>Animation</th>\n",
       "      <th>Children</th>\n",
       "      <th>Comedy</th>\n",
       "      <th>Crime</th>\n",
       "      <th>Documentary</th>\n",
       "      <th>...</th>\n",
       "      <th>Fantasy</th>\n",
       "      <th>Film-Noir</th>\n",
       "      <th>Horror</th>\n",
       "      <th>Musical</th>\n",
       "      <th>Mystery</th>\n",
       "      <th>Romance</th>\n",
       "      <th>Sci-Fi</th>\n",
       "      <th>Thriller</th>\n",
       "      <th>War</th>\n",
       "      <th>Western</th>\n",
       "    </tr>\n",
       "  </thead>\n",
       "  <tbody>\n",
       "    <tr>\n",
       "      <th>0</th>\n",
       "      <td>24</td>\n",
       "      <td>49</td>\n",
       "      <td>1</td>\n",
       "      <td>0</td>\n",
       "      <td>0</td>\n",
       "      <td>0</td>\n",
       "      <td>0</td>\n",
       "      <td>1</td>\n",
       "      <td>0</td>\n",
       "      <td>0</td>\n",
       "      <td>...</td>\n",
       "      <td>0</td>\n",
       "      <td>0</td>\n",
       "      <td>0</td>\n",
       "      <td>0</td>\n",
       "      <td>0</td>\n",
       "      <td>0</td>\n",
       "      <td>0</td>\n",
       "      <td>0</td>\n",
       "      <td>0</td>\n",
       "      <td>0</td>\n",
       "    </tr>\n",
       "    <tr>\n",
       "      <th>1</th>\n",
       "      <td>55</td>\n",
       "      <td>49</td>\n",
       "      <td>1</td>\n",
       "      <td>0</td>\n",
       "      <td>0</td>\n",
       "      <td>0</td>\n",
       "      <td>0</td>\n",
       "      <td>1</td>\n",
       "      <td>0</td>\n",
       "      <td>0</td>\n",
       "      <td>...</td>\n",
       "      <td>0</td>\n",
       "      <td>0</td>\n",
       "      <td>0</td>\n",
       "      <td>0</td>\n",
       "      <td>0</td>\n",
       "      <td>1</td>\n",
       "      <td>0</td>\n",
       "      <td>0</td>\n",
       "      <td>0</td>\n",
       "      <td>0</td>\n",
       "    </tr>\n",
       "    <tr>\n",
       "      <th>2</th>\n",
       "      <td>17</td>\n",
       "      <td>49</td>\n",
       "      <td>1</td>\n",
       "      <td>0</td>\n",
       "      <td>0</td>\n",
       "      <td>0</td>\n",
       "      <td>0</td>\n",
       "      <td>1</td>\n",
       "      <td>0</td>\n",
       "      <td>0</td>\n",
       "      <td>...</td>\n",
       "      <td>0</td>\n",
       "      <td>0</td>\n",
       "      <td>0</td>\n",
       "      <td>0</td>\n",
       "      <td>0</td>\n",
       "      <td>0</td>\n",
       "      <td>0</td>\n",
       "      <td>0</td>\n",
       "      <td>0</td>\n",
       "      <td>0</td>\n",
       "    </tr>\n",
       "    <tr>\n",
       "      <th>3</th>\n",
       "      <td>76</td>\n",
       "      <td>31</td>\n",
       "      <td>1</td>\n",
       "      <td>0</td>\n",
       "      <td>0</td>\n",
       "      <td>0</td>\n",
       "      <td>0</td>\n",
       "      <td>0</td>\n",
       "      <td>0</td>\n",
       "      <td>0</td>\n",
       "      <td>...</td>\n",
       "      <td>0</td>\n",
       "      <td>0</td>\n",
       "      <td>0</td>\n",
       "      <td>0</td>\n",
       "      <td>0</td>\n",
       "      <td>1</td>\n",
       "      <td>0</td>\n",
       "      <td>0</td>\n",
       "      <td>0</td>\n",
       "      <td>0</td>\n",
       "    </tr>\n",
       "    <tr>\n",
       "      <th>4</th>\n",
       "      <td>2</td>\n",
       "      <td>31</td>\n",
       "      <td>1</td>\n",
       "      <td>0</td>\n",
       "      <td>0</td>\n",
       "      <td>0</td>\n",
       "      <td>1</td>\n",
       "      <td>1</td>\n",
       "      <td>0</td>\n",
       "      <td>0</td>\n",
       "      <td>...</td>\n",
       "      <td>0</td>\n",
       "      <td>0</td>\n",
       "      <td>0</td>\n",
       "      <td>0</td>\n",
       "      <td>0</td>\n",
       "      <td>0</td>\n",
       "      <td>0</td>\n",
       "      <td>0</td>\n",
       "      <td>0</td>\n",
       "      <td>0</td>\n",
       "    </tr>\n",
       "  </tbody>\n",
       "</table>\n",
       "<p>5 rows × 21 columns</p>\n",
       "</div>"
      ],
      "text/plain": [
       "   label  age  gender  Action  Adventure  Animation  Children  Comedy  Crime  \\\n",
       "0     24   49       1       0          0          0         0       1      0   \n",
       "1     55   49       1       0          0          0         0       1      0   \n",
       "2     17   49       1       0          0          0         0       1      0   \n",
       "3     76   31       1       0          0          0         0       0      0   \n",
       "4      2   31       1       0          0          0         1       1      0   \n",
       "\n",
       "   Documentary  ...  Fantasy  Film-Noir  Horror  Musical  Mystery  Romance  \\\n",
       "0            0  ...        0          0       0        0        0        0   \n",
       "1            0  ...        0          0       0        0        0        1   \n",
       "2            0  ...        0          0       0        0        0        0   \n",
       "3            0  ...        0          0       0        0        0        1   \n",
       "4            0  ...        0          0       0        0        0        0   \n",
       "\n",
       "   Sci-Fi  Thriller  War  Western  \n",
       "0       0         0    0        0  \n",
       "1       0         0    0        0  \n",
       "2       0         0    0        0  \n",
       "3       0         0    0        0  \n",
       "4       0         0    0        0  \n",
       "\n",
       "[5 rows x 21 columns]"
      ]
     },
     "execution_count": 3,
     "metadata": {},
     "output_type": "execute_result"
    }
   ],
   "source": [
    "df.head()"
   ]
  },
  {
   "cell_type": "code",
   "execution_count": 4,
   "metadata": {},
   "outputs": [
    {
     "data": {
      "text/html": [
       "<div>\n",
       "<style scoped>\n",
       "    .dataframe tbody tr th:only-of-type {\n",
       "        vertical-align: middle;\n",
       "    }\n",
       "\n",
       "    .dataframe tbody tr th {\n",
       "        vertical-align: top;\n",
       "    }\n",
       "\n",
       "    .dataframe thead th {\n",
       "        text-align: right;\n",
       "    }\n",
       "</style>\n",
       "<table border=\"1\" class=\"dataframe\">\n",
       "  <thead>\n",
       "    <tr style=\"text-align: right;\">\n",
       "      <th></th>\n",
       "      <th>label</th>\n",
       "      <th>age</th>\n",
       "      <th>gender</th>\n",
       "      <th>Action</th>\n",
       "      <th>Adventure</th>\n",
       "      <th>Animation</th>\n",
       "      <th>Children</th>\n",
       "      <th>Comedy</th>\n",
       "      <th>Crime</th>\n",
       "      <th>Documentary</th>\n",
       "      <th>...</th>\n",
       "      <th>Fantasy</th>\n",
       "      <th>Film-Noir</th>\n",
       "      <th>Horror</th>\n",
       "      <th>Musical</th>\n",
       "      <th>Mystery</th>\n",
       "      <th>Romance</th>\n",
       "      <th>Sci-Fi</th>\n",
       "      <th>Thriller</th>\n",
       "      <th>War</th>\n",
       "      <th>Western</th>\n",
       "    </tr>\n",
       "  </thead>\n",
       "  <tbody>\n",
       "    <tr>\n",
       "      <th>6576</th>\n",
       "      <td>43</td>\n",
       "      <td>40</td>\n",
       "      <td>0</td>\n",
       "      <td>1</td>\n",
       "      <td>0</td>\n",
       "      <td>0</td>\n",
       "      <td>0</td>\n",
       "      <td>0</td>\n",
       "      <td>0</td>\n",
       "      <td>0</td>\n",
       "      <td>...</td>\n",
       "      <td>0</td>\n",
       "      <td>0</td>\n",
       "      <td>1</td>\n",
       "      <td>0</td>\n",
       "      <td>0</td>\n",
       "      <td>0</td>\n",
       "      <td>1</td>\n",
       "      <td>0</td>\n",
       "      <td>0</td>\n",
       "      <td>0</td>\n",
       "    </tr>\n",
       "    <tr>\n",
       "      <th>6577</th>\n",
       "      <td>32</td>\n",
       "      <td>40</td>\n",
       "      <td>0</td>\n",
       "      <td>1</td>\n",
       "      <td>0</td>\n",
       "      <td>0</td>\n",
       "      <td>0</td>\n",
       "      <td>0</td>\n",
       "      <td>0</td>\n",
       "      <td>0</td>\n",
       "      <td>...</td>\n",
       "      <td>0</td>\n",
       "      <td>0</td>\n",
       "      <td>0</td>\n",
       "      <td>0</td>\n",
       "      <td>0</td>\n",
       "      <td>0</td>\n",
       "      <td>0</td>\n",
       "      <td>1</td>\n",
       "      <td>0</td>\n",
       "      <td>0</td>\n",
       "    </tr>\n",
       "    <tr>\n",
       "      <th>6578</th>\n",
       "      <td>70</td>\n",
       "      <td>40</td>\n",
       "      <td>0</td>\n",
       "      <td>0</td>\n",
       "      <td>0</td>\n",
       "      <td>1</td>\n",
       "      <td>1</td>\n",
       "      <td>0</td>\n",
       "      <td>0</td>\n",
       "      <td>0</td>\n",
       "      <td>...</td>\n",
       "      <td>0</td>\n",
       "      <td>0</td>\n",
       "      <td>0</td>\n",
       "      <td>1</td>\n",
       "      <td>0</td>\n",
       "      <td>0</td>\n",
       "      <td>0</td>\n",
       "      <td>0</td>\n",
       "      <td>0</td>\n",
       "      <td>0</td>\n",
       "    </tr>\n",
       "    <tr>\n",
       "      <th>6579</th>\n",
       "      <td>59</td>\n",
       "      <td>48</td>\n",
       "      <td>0</td>\n",
       "      <td>0</td>\n",
       "      <td>0</td>\n",
       "      <td>0</td>\n",
       "      <td>0</td>\n",
       "      <td>0</td>\n",
       "      <td>0</td>\n",
       "      <td>0</td>\n",
       "      <td>...</td>\n",
       "      <td>0</td>\n",
       "      <td>0</td>\n",
       "      <td>0</td>\n",
       "      <td>0</td>\n",
       "      <td>0</td>\n",
       "      <td>0</td>\n",
       "      <td>0</td>\n",
       "      <td>0</td>\n",
       "      <td>0</td>\n",
       "      <td>0</td>\n",
       "    </tr>\n",
       "    <tr>\n",
       "      <th>6580</th>\n",
       "      <td>32</td>\n",
       "      <td>48</td>\n",
       "      <td>0</td>\n",
       "      <td>1</td>\n",
       "      <td>0</td>\n",
       "      <td>0</td>\n",
       "      <td>0</td>\n",
       "      <td>0</td>\n",
       "      <td>0</td>\n",
       "      <td>0</td>\n",
       "      <td>...</td>\n",
       "      <td>0</td>\n",
       "      <td>0</td>\n",
       "      <td>0</td>\n",
       "      <td>0</td>\n",
       "      <td>0</td>\n",
       "      <td>0</td>\n",
       "      <td>0</td>\n",
       "      <td>1</td>\n",
       "      <td>0</td>\n",
       "      <td>0</td>\n",
       "    </tr>\n",
       "  </tbody>\n",
       "</table>\n",
       "<p>5 rows × 21 columns</p>\n",
       "</div>"
      ],
      "text/plain": [
       "      label  age  gender  Action  Adventure  Animation  Children  Comedy  \\\n",
       "6576     43   40       0       1          0          0         0       0   \n",
       "6577     32   40       0       1          0          0         0       0   \n",
       "6578     70   40       0       0          0          1         1       0   \n",
       "6579     59   48       0       0          0          0         0       0   \n",
       "6580     32   48       0       1          0          0         0       0   \n",
       "\n",
       "      Crime  Documentary  ...  Fantasy  Film-Noir  Horror  Musical  Mystery  \\\n",
       "6576      0            0  ...        0          0       1        0        0   \n",
       "6577      0            0  ...        0          0       0        0        0   \n",
       "6578      0            0  ...        0          0       0        1        0   \n",
       "6579      0            0  ...        0          0       0        0        0   \n",
       "6580      0            0  ...        0          0       0        0        0   \n",
       "\n",
       "      Romance  Sci-Fi  Thriller  War  Western  \n",
       "6576        0       1         0    0        0  \n",
       "6577        0       0         1    0        0  \n",
       "6578        0       0         0    0        0  \n",
       "6579        0       0         0    0        0  \n",
       "6580        0       0         1    0        0  \n",
       "\n",
       "[5 rows x 21 columns]"
      ]
     },
     "execution_count": 4,
     "metadata": {},
     "output_type": "execute_result"
    }
   ],
   "source": [
    "df.tail()"
   ]
  },
  {
   "cell_type": "code",
   "execution_count": 5,
   "metadata": {},
   "outputs": [
    {
     "data": {
      "text/plain": [
       "138201"
      ]
     },
     "execution_count": 5,
     "metadata": {},
     "output_type": "execute_result"
    }
   ],
   "source": [
    "df.size"
   ]
  },
  {
   "cell_type": "code",
   "execution_count": 6,
   "metadata": {},
   "outputs": [
    {
     "data": {
      "text/plain": [
       "(6581, 21)"
      ]
     },
     "execution_count": 6,
     "metadata": {},
     "output_type": "execute_result"
    }
   ],
   "source": [
    "df.shape"
   ]
  },
  {
   "cell_type": "code",
   "execution_count": 7,
   "metadata": {},
   "outputs": [
    {
     "data": {
      "text/plain": [
       "Index(['label', 'age', 'gender', 'Action', 'Adventure', 'Animation',\n",
       "       'Children', 'Comedy', 'Crime', 'Documentary', 'Drama', 'Fantasy',\n",
       "       'Film-Noir', 'Horror', 'Musical', 'Mystery', 'Romance', 'Sci-Fi',\n",
       "       'Thriller', 'War', 'Western'],\n",
       "      dtype='object')"
      ]
     },
     "execution_count": 7,
     "metadata": {},
     "output_type": "execute_result"
    }
   ],
   "source": [
    "df.columns"
   ]
  },
  {
   "cell_type": "code",
   "execution_count": 8,
   "metadata": {},
   "outputs": [
    {
     "data": {
      "text/plain": [
       "array([ 24,  55,  17,  76,   2,  32,   5,  38,  50,  44,  88,  87,   7,\n",
       "        84,  13,  27,  82,  59,  92,  97,  80,  36,   3,   6,  58,  63,\n",
       "        95,  86,  29,  16,  22,  41,  35,  57,  94,  42,  64,  51,  96,\n",
       "        79,  61,  31,  89,  45,  93,  46,  77,  15,  25,  98,  83,  10,\n",
       "         9,  26,  68,  73,  74,  65,  66,  91,   4,  60,  99,  43,  69,\n",
       "        70,  23,  20,  18,  40,  34,  37,   8, 100,  21,   0,  81,  49,\n",
       "        53,  71,  90,  52,  56,   1,  78,  28,  67,  47,  54,  72,  33,\n",
       "        62,  19,  39,  14,  85,  75,  48,  11,  12,  30])"
      ]
     },
     "execution_count": 8,
     "metadata": {},
     "output_type": "execute_result"
    }
   ],
   "source": [
    "df['label'].unique()"
   ]
  },
  {
   "cell_type": "code",
   "execution_count": 9,
   "metadata": {},
   "outputs": [
    {
     "data": {
      "text/plain": [
       "label          int64\n",
       "age            int64\n",
       "gender         int64\n",
       "Action         int64\n",
       "Adventure      int64\n",
       "Animation      int64\n",
       "Children       int64\n",
       "Comedy         int64\n",
       "Crime          int64\n",
       "Documentary    int64\n",
       "Drama          int64\n",
       "Fantasy        int64\n",
       "Film-Noir      int64\n",
       "Horror         int64\n",
       "Musical        int64\n",
       "Mystery        int64\n",
       "Romance        int64\n",
       "Sci-Fi         int64\n",
       "Thriller       int64\n",
       "War            int64\n",
       "Western        int64\n",
       "dtype: object"
      ]
     },
     "execution_count": 9,
     "metadata": {},
     "output_type": "execute_result"
    }
   ],
   "source": [
    "df.dtypes"
   ]
  },
  {
   "cell_type": "code",
   "execution_count": 10,
   "metadata": {},
   "outputs": [
    {
     "data": {
      "text/plain": [
       "label\n",
       "32    431\n",
       "41    291\n",
       "44    284\n",
       "88    276\n",
       "50    276\n",
       "     ... \n",
       "79      2\n",
       "74      1\n",
       "48      1\n",
       "75      1\n",
       "30      1\n",
       "Name: count, Length: 101, dtype: int64"
      ]
     },
     "execution_count": 10,
     "metadata": {},
     "output_type": "execute_result"
    }
   ],
   "source": [
    "df['label'].value_counts()"
   ]
  },
  {
   "cell_type": "code",
   "execution_count": 11,
   "metadata": {},
   "outputs": [
    {
     "data": {
      "text/plain": [
       "<Axes: >"
      ]
     },
     "execution_count": 11,
     "metadata": {},
     "output_type": "execute_result"
    },
    {
     "data": {
      "image/png": "[encoded data removed]",
      "text/plain": [
       "<Figure size 640x480 with 2 Axes>"
      ]
     },
     "metadata": {},
     "output_type": "display_data"
    }
   ],
   "source": [
    "sns.heatmap(df.corr(),annot=True)"
   ]
  },
  {
   "cell_type": "code",
   "execution_count": 12,
   "metadata": {},
   "outputs": [],
   "source": [
    "features = df[['age', 'gender', 'Action', 'Adventure', 'Animation',\n",
    "       'Children', 'Comedy', 'Crime', 'Documentary', 'Drama', 'Fantasy',\n",
    "       'Film-Noir', 'Horror', 'Musical', 'Mystery', 'Romance', 'Sci-Fi',\n",
    "       'Thriller', 'War', 'Western']]\n",
    "target = df['label']\n",
    "labels = df['label']"
   ]
  },
  {
   "cell_type": "code",
   "execution_count": 13,
   "metadata": {},
   "outputs": [],
   "source": [
    "# Initialzing empty lists to append all model's name and corresponding name\n",
    "acc = []\n",
    "model = []"
   ]
  },
  {
   "cell_type": "code",
   "execution_count": 14,
   "metadata": {},
   "outputs": [],
   "source": [
    "# Splitting into train and test data\n",
    "\n",
    "from sklearn.model_selection import train_test_split\n",
    "Xtrain, Xtest, Ytrain, Ytest = train_test_split(features,target,test_size = 0.2,random_state =2)"
   ]
  },
  {
   "cell_type": "markdown",
   "metadata": {},
   "source": [
    "# Decision Tree"
   ]
  },
  {
   "cell_type": "code",
   "execution_count": 15,
   "metadata": {},
   "outputs": [
    {
     "name": "stdout",
     "output_type": "stream",
     "text": [
      "DecisionTrees's Accuracy is:  62.56643887623387\n",
      "              precision    recall  f1-score   support\n",
      "\n",
      "           0       0.00      0.00      0.00         1\n",
      "           1       0.00      0.00      0.00         2\n",
      "           2       0.53      1.00      0.69        21\n",
      "           3       0.00      0.00      0.00        32\n",
      "           4       0.00      0.00      0.00         9\n",
      "           5       0.20      1.00      0.33        18\n",
      "           6       0.52      1.00      0.68        13\n",
      "           7       1.00      1.00      1.00        62\n",
      "           8       0.00      0.00      0.00         1\n",
      "           9       0.39      1.00      0.57        15\n",
      "          10       0.00      0.00      0.00         7\n",
      "          12       0.00      0.00      0.00         1\n",
      "          13       0.00      0.00      0.00         1\n",
      "          14       0.00      0.00      0.00         3\n",
      "          15       1.00      1.00      1.00        22\n",
      "          16       0.54      1.00      0.70        29\n",
      "          17       0.00      0.00      0.00        17\n",
      "          18       0.00      0.00      0.00        10\n",
      "          19       0.00      0.00      0.00         2\n",
      "          20       0.00      0.00      0.00        13\n",
      "          21       0.00      0.00      0.00        11\n",
      "          22       0.00      0.00      0.00         2\n",
      "          23       0.00      0.00      0.00         6\n",
      "          24       0.41      0.37      0.39        19\n",
      "          25       0.00      0.00      0.00        13\n",
      "          26       0.00      0.00      0.00         4\n",
      "          27       0.69      1.00      0.82        29\n",
      "          28       0.00      0.00      0.00         5\n",
      "          29       0.00      0.00      0.00        15\n",
      "          31       0.00      0.00      0.00        11\n",
      "          32       1.00      1.00      1.00       103\n",
      "          33       0.00      0.00      0.00         2\n",
      "          34       0.00      0.00      0.00         5\n",
      "          35       0.00      0.00      0.00        16\n",
      "          36       0.87      1.00      0.93        53\n",
      "          37       0.00      0.00      0.00         8\n",
      "          38       0.00      0.00      0.00         1\n",
      "          39       0.00      0.00      0.00         2\n",
      "          40       0.00      0.00      0.00        18\n",
      "          41       0.64      1.00      0.78        47\n",
      "          42       0.00      0.00      0.00        26\n",
      "          43       0.40      1.00      0.57        25\n",
      "          44       1.00      1.00      1.00        52\n",
      "          45       0.00      0.00      0.00        15\n",
      "          46       0.00      0.00      0.00         3\n",
      "          47       0.00      0.00      0.00         1\n",
      "          49       0.00      0.00      0.00         3\n",
      "          50       1.00      1.00      1.00        47\n",
      "          51       0.00      0.00      0.00         4\n",
      "          52       0.00      0.00      0.00         1\n",
      "          53       0.00      0.00      0.00         3\n",
      "          54       0.00      0.00      0.00         1\n",
      "          55       1.00      1.00      1.00        32\n",
      "          56       0.00      0.00      0.00         1\n",
      "          57       0.00      0.00      0.00        20\n",
      "          58       0.00      0.00      0.00        13\n",
      "          59       0.13      1.00      0.22        20\n",
      "          60       0.00      0.00      0.00         2\n",
      "          61       0.00      0.00      0.00         1\n",
      "          63       0.00      0.00      0.00        11\n",
      "          64       0.00      0.00      0.00         2\n",
      "          67       0.00      0.00      0.00         4\n",
      "          68       0.00      0.00      0.00         2\n",
      "          69       1.00      1.00      1.00        11\n",
      "          70       0.00      0.00      0.00        11\n",
      "          71       0.00      0.00      0.00         4\n",
      "          72       0.00      0.00      0.00         1\n",
      "          73       0.00      0.00      0.00         2\n",
      "          76       0.00      0.00      0.00        13\n",
      "          77       0.00      0.00      0.00         3\n",
      "          78       0.00      0.00      0.00         1\n",
      "          80       0.00      0.00      0.00         5\n",
      "          81       0.00      0.00      0.00         1\n",
      "          82       0.74      1.00      0.85        31\n",
      "          83       0.00      0.00      0.00         8\n",
      "          84       0.00      0.00      0.00        13\n",
      "          85       0.00      0.00      0.00         1\n",
      "          86       0.00      0.00      0.00        11\n",
      "          87       1.00      1.00      1.00        54\n",
      "          88       1.00      1.00      1.00        54\n",
      "          89       0.00      0.00      0.00        11\n",
      "          90       0.00      0.00      0.00         5\n",
      "          91       0.00      0.00      0.00         3\n",
      "          92       0.90      1.00      0.95        36\n",
      "          93       0.00      0.00      0.00        11\n",
      "          94       0.21      1.00      0.35        19\n",
      "          95       0.00      0.00      0.00        15\n",
      "          96       0.00      0.00      0.00         9\n",
      "          97       1.00      1.00      1.00        16\n",
      "          98       0.27      0.47      0.34        17\n",
      "          99       0.00      0.00      0.00         9\n",
      "         100       0.00      0.00      0.00         4\n",
      "\n",
      "    accuracy                           0.63      1317\n",
      "   macro avg       0.19      0.26      0.21      1317\n",
      "weighted avg       0.51      0.63      0.55      1317\n",
      "\n"
     ]
    }
   ],
   "source": [
    "from sklearn.tree import DecisionTreeClassifier\n",
    "\n",
    "DecisionTree = DecisionTreeClassifier(criterion=\"entropy\",random_state=2,max_depth=5)\n",
    "\n",
    "DecisionTree.fit(Xtrain,Ytrain)\n",
    "\n",
    "predicted_values = DecisionTree.predict(Xtest)\n",
    "x = metrics.accuracy_score(Ytest, predicted_values)\n",
    "acc.append(x)\n",
    "model.append('Decision Tree')\n",
    "print(\"DecisionTrees's Accuracy is: \", x*100)\n",
    "\n",
    "print(classification_report(Ytest,predicted_values))"
   ]
  },
  {
   "cell_type": "code",
   "execution_count": 16,
   "metadata": {},
   "outputs": [],
   "source": [
    "from sklearn.model_selection import cross_val_score"
   ]
  },
  {
   "cell_type": "code",
   "execution_count": 17,
   "metadata": {},
   "outputs": [],
   "source": [
    "# Cross validation score (Decision Tree)\n",
    "score = cross_val_score(DecisionTree, features, target,cv=5)"
   ]
  },
  {
   "cell_type": "code",
   "execution_count": 18,
   "metadata": {},
   "outputs": [
    {
     "data": {
      "text/plain": [
       "array([0.6309795 , 0.63069909, 0.63069909, 0.63297872, 0.63449848])"
      ]
     },
     "execution_count": 18,
     "metadata": {},
     "output_type": "execute_result"
    }
   ],
   "source": [
    "score"
   ]
  },
  {
   "cell_type": "markdown",
   "metadata": {},
   "source": [
    "SVM"
   ]
  },
  {
   "cell_type": "code",
   "execution_count": 19,
   "metadata": {},
   "outputs": [
    {
     "name": "stdout",
     "output_type": "stream",
     "text": [
      "SVM's Accuracy is:  0.768413059984814\n",
      "              precision    recall  f1-score   support\n",
      "\n",
      "           0       0.00      0.00      0.00         1\n",
      "           1       0.00      0.00      0.00         2\n",
      "           2       0.60      1.00      0.75        21\n",
      "           3       0.00      0.00      0.00        32\n",
      "           4       0.00      0.00      0.00         9\n",
      "           5       1.00      1.00      1.00        18\n",
      "           6       1.00      1.00      1.00        13\n",
      "           7       1.00      1.00      1.00        62\n",
      "           8       1.00      1.00      1.00         1\n",
      "           9       0.54      1.00      0.70        15\n",
      "          10       0.00      0.00      0.00         7\n",
      "          12       0.00      0.00      0.00         1\n",
      "          13       0.00      0.00      0.00         1\n",
      "          14       0.00      0.00      0.00         3\n",
      "          15       1.00      1.00      1.00        22\n",
      "          16       1.00      1.00      1.00        29\n",
      "          17       0.33      0.82      0.47        17\n",
      "          18       0.00      0.00      0.00        10\n",
      "          19       0.00      0.00      0.00         2\n",
      "          20       0.18      0.15      0.17        13\n",
      "          21       0.00      0.00      0.00        11\n",
      "          22       0.00      0.00      0.00         2\n",
      "          23       0.50      1.00      0.67         6\n",
      "          24       0.42      0.26      0.32        19\n",
      "          25       1.00      1.00      1.00        13\n",
      "          26       0.67      1.00      0.80         4\n",
      "          27       1.00      1.00      1.00        29\n",
      "          28       0.00      0.00      0.00         5\n",
      "          29       0.00      0.00      0.00        15\n",
      "          31       0.00      0.00      0.00        11\n",
      "          32       1.00      1.00      1.00       103\n",
      "          33       0.00      0.00      0.00         2\n",
      "          34       0.00      0.00      0.00         5\n",
      "          35       1.00      1.00      1.00        16\n",
      "          36       1.00      1.00      1.00        53\n",
      "          37       1.00      1.00      1.00         8\n",
      "          38       0.00      0.00      0.00         1\n",
      "          39       1.00      1.00      1.00         2\n",
      "          40       0.44      0.44      0.44        18\n",
      "          41       0.64      1.00      0.78        47\n",
      "          42       0.00      0.00      0.00        26\n",
      "          43       1.00      1.00      1.00        25\n",
      "          44       1.00      1.00      1.00        52\n",
      "          45       0.00      0.00      0.00        15\n",
      "          46       0.00      0.00      0.00         3\n",
      "          47       0.00      0.00      0.00         1\n",
      "          49       1.00      1.00      1.00         3\n",
      "          50       1.00      1.00      1.00        47\n",
      "          51       1.00      1.00      1.00         4\n",
      "          52       0.00      0.00      0.00         1\n",
      "          53       0.00      0.00      0.00         3\n",
      "          54       0.00      0.00      0.00         1\n",
      "          55       1.00      1.00      1.00        32\n",
      "          56       0.00      0.00      0.00         1\n",
      "          57       0.53      1.00      0.69        20\n",
      "          58       1.00      1.00      1.00        13\n",
      "          59       0.15      1.00      0.26        20\n",
      "          60       0.00      0.00      0.00         2\n",
      "          61       0.00      0.00      0.00         1\n",
      "          63       0.00      0.00      0.00        11\n",
      "          64       0.00      0.00      0.00         2\n",
      "          67       0.00      0.00      0.00         4\n",
      "          68       0.00      0.00      0.00         2\n",
      "          69       1.00      1.00      1.00        11\n",
      "          70       0.21      0.27      0.24        11\n",
      "          71       0.00      0.00      0.00         4\n",
      "          72       0.00      0.00      0.00         1\n",
      "          73       1.00      1.00      1.00         2\n",
      "          76       0.54      1.00      0.70        13\n",
      "          77       0.00      0.00      0.00         3\n",
      "          78       0.00      0.00      0.00         1\n",
      "          80       0.00      0.00      0.00         5\n",
      "          81       0.25      1.00      0.40         1\n",
      "          82       0.74      1.00      0.85        31\n",
      "          83       1.00      1.00      1.00         8\n",
      "          84       0.00      0.00      0.00        13\n",
      "          85       0.00      0.00      0.00         1\n",
      "          86       0.00      0.00      0.00        11\n",
      "          87       1.00      1.00      1.00        54\n",
      "          88       1.00      1.00      1.00        54\n",
      "          89       0.00      0.00      0.00        11\n",
      "          90       1.00      1.00      1.00         5\n",
      "          91       1.00      1.00      1.00         3\n",
      "          92       1.00      1.00      1.00        36\n",
      "          93       1.00      1.00      1.00        11\n",
      "          94       1.00      1.00      1.00        19\n",
      "          95       1.00      1.00      1.00        15\n",
      "          96       1.00      1.00      1.00         9\n",
      "          97       1.00      1.00      1.00        16\n",
      "          98       0.40      0.82      0.54        17\n",
      "          99       0.00      0.00      0.00         9\n",
      "         100       0.00      0.00      0.00         4\n",
      "\n",
      "    accuracy                           0.77      1317\n",
      "   macro avg       0.44      0.50      0.45      1317\n",
      "weighted avg       0.70      0.77      0.72      1317\n",
      "\n"
     ]
    }
   ],
   "source": [
    "from sklearn.svm import SVC\n",
    "# data normalization with sklearn\n",
    "from sklearn.preprocessing import MinMaxScaler\n",
    "# fit scaler on training data\n",
    "norm = MinMaxScaler().fit(Xtrain)\n",
    "X_train_norm = norm.transform(Xtrain)\n",
    "# transform testing dataabs\n",
    "X_test_norm = norm.transform(Xtest)\n",
    "SVM = SVC(kernel='poly', degree=3, C=1)\n",
    "SVM.fit(X_train_norm,Ytrain)\n",
    "predicted_values = SVM.predict(X_test_norm)\n",
    "x = metrics.accuracy_score(Ytest, predicted_values)\n",
    "acc.append(x)\n",
    "model.append('SVM')\n",
    "print(\"SVM's Accuracy is: \", x)\n",
    "\n",
    "print(classification_report(Ytest,predicted_values))"
   ]
  },
  {
   "cell_type": "code",
   "execution_count": 20,
   "metadata": {},
   "outputs": [
    {
     "data": {
      "text/plain": [
       "array([0.2080486 , 0.21048632, 0.19908815, 0.23404255, 0.193769  ])"
      ]
     },
     "execution_count": 20,
     "metadata": {},
     "output_type": "execute_result"
    }
   ],
   "source": [
    "# Cross validation score (SVM)\n",
    "score = cross_val_score(SVM,features,target,cv=5)\n",
    "score"
   ]
  },
  {
   "cell_type": "markdown",
   "metadata": {},
   "source": [
    "Naive bayes"
   ]
  },
  {
   "cell_type": "code",
   "execution_count": 21,
   "metadata": {},
   "outputs": [
    {
     "name": "stdout",
     "output_type": "stream",
     "text": [
      "Naive Bayes's Accuracy is:  0.7593014426727411\n",
      "              precision    recall  f1-score   support\n",
      "\n",
      "           0       0.00      0.00      0.00         1\n",
      "           1       0.00      0.00      0.00         2\n",
      "           2       0.61      0.95      0.74        21\n",
      "           3       0.00      0.00      0.00        32\n",
      "           4       0.00      0.00      0.00         9\n",
      "           5       1.00      1.00      1.00        18\n",
      "           6       1.00      1.00      1.00        13\n",
      "           7       1.00      1.00      1.00        62\n",
      "           8       1.00      1.00      1.00         1\n",
      "           9       0.80      0.53      0.64        15\n",
      "          10       0.00      0.00      0.00         7\n",
      "          12       0.00      0.00      0.00         1\n",
      "          13       0.00      0.00      0.00         1\n",
      "          14       0.00      0.00      0.00         3\n",
      "          15       1.00      1.00      1.00        22\n",
      "          16       1.00      1.00      1.00        29\n",
      "          17       0.34      0.82      0.48        17\n",
      "          18       0.00      0.00      0.00        10\n",
      "          19       0.33      0.50      0.40         2\n",
      "          20       0.18      0.15      0.17        13\n",
      "          21       0.33      0.09      0.14        11\n",
      "          22       0.00      0.00      0.00         2\n",
      "          23       0.56      0.83      0.67         6\n",
      "          24       0.42      0.26      0.32        19\n",
      "          25       1.00      1.00      1.00        13\n",
      "          26       0.67      1.00      0.80         4\n",
      "          27       1.00      1.00      1.00        29\n",
      "          28       0.00      0.00      0.00         5\n",
      "          29       0.07      0.07      0.07        15\n",
      "          30       0.00      0.00      0.00         0\n",
      "          31       0.50      0.09      0.15        11\n",
      "          32       0.99      1.00      1.00       103\n",
      "          33       0.00      0.00      0.00         2\n",
      "          34       0.00      0.00      0.00         5\n",
      "          35       1.00      1.00      1.00        16\n",
      "          36       1.00      1.00      1.00        53\n",
      "          37       1.00      1.00      1.00         8\n",
      "          38       0.00      0.00      0.00         1\n",
      "          39       1.00      1.00      1.00         2\n",
      "          40       0.48      0.61      0.54        18\n",
      "          41       0.64      1.00      0.78        47\n",
      "          42       0.00      0.00      0.00        26\n",
      "          43       1.00      1.00      1.00        25\n",
      "          44       1.00      1.00      1.00        52\n",
      "          45       0.00      0.00      0.00        15\n",
      "          46       0.00      0.00      0.00         3\n",
      "          47       0.00      0.00      0.00         1\n",
      "          48       0.00      0.00      0.00         0\n",
      "          49       1.00      1.00      1.00         3\n",
      "          50       1.00      1.00      1.00        47\n",
      "          51       1.00      1.00      1.00         4\n",
      "          52       0.00      0.00      0.00         1\n",
      "          53       0.00      0.00      0.00         3\n",
      "          54       0.00      0.00      0.00         1\n",
      "          55       1.00      1.00      1.00        32\n",
      "          56       0.00      0.00      0.00         1\n",
      "          57       0.53      1.00      0.69        20\n",
      "          58       1.00      1.00      1.00        13\n",
      "          59       0.50      0.10      0.17        20\n",
      "          60       0.00      0.00      0.00         2\n",
      "          61       0.00      0.00      0.00         1\n",
      "          63       0.00      0.00      0.00        11\n",
      "          64       0.00      0.00      0.00         2\n",
      "          67       0.00      0.00      0.00         4\n",
      "          68       0.00      0.00      0.00         2\n",
      "          69       1.00      1.00      1.00        11\n",
      "          70       0.11      0.09      0.10        11\n",
      "          71       0.33      0.25      0.29         4\n",
      "          72       0.00      0.00      0.00         1\n",
      "          73       1.00      1.00      1.00         2\n",
      "          75       0.00      0.00      0.00         0\n",
      "          76       0.57      1.00      0.72        13\n",
      "          77       0.00      0.00      0.00         3\n",
      "          78       0.00      0.00      0.00         1\n",
      "          79       0.00      0.00      0.00         0\n",
      "          80       1.00      0.20      0.33         5\n",
      "          81       0.00      0.00      0.00         1\n",
      "          82       0.74      0.94      0.83        31\n",
      "          83       1.00      1.00      1.00         8\n",
      "          84       0.07      0.08      0.07        13\n",
      "          85       0.00      0.00      0.00         1\n",
      "          86       0.00      0.00      0.00        11\n",
      "          87       1.00      1.00      1.00        54\n",
      "          88       1.00      1.00      1.00        54\n",
      "          89       0.50      0.09      0.15        11\n",
      "          90       1.00      1.00      1.00         5\n",
      "          91       1.00      1.00      1.00         3\n",
      "          92       1.00      1.00      1.00        36\n",
      "          93       1.00      1.00      1.00        11\n",
      "          94       1.00      1.00      1.00        19\n",
      "          95       1.00      1.00      1.00        15\n",
      "          96       1.00      1.00      1.00         9\n",
      "          97       1.00      1.00      1.00        16\n",
      "          98       0.40      0.82      0.54        17\n",
      "          99       0.50      1.00      0.67         9\n",
      "         100       0.00      0.00      0.00         4\n",
      "\n",
      "    accuracy                           0.76      1317\n",
      "   macro avg       0.46      0.47      0.45      1317\n",
      "weighted avg       0.73      0.76      0.73      1317\n",
      "\n"
     ]
    }
   ],
   "source": [
    "from sklearn.naive_bayes import GaussianNB\n",
    "\n",
    "NaiveBayes = GaussianNB()\n",
    "\n",
    "NaiveBayes.fit(Xtrain,Ytrain)\n",
    "\n",
    "predicted_values = NaiveBayes.predict(Xtest)\n",
    "x = metrics.accuracy_score(Ytest, predicted_values)\n",
    "acc.append(x)\n",
    "model.append('Naive Bayes')\n",
    "print(\"Naive Bayes's Accuracy is: \", x)\n",
    "\n",
    "print(classification_report(Ytest,predicted_values))"
   ]
  },
  {
   "cell_type": "code",
   "execution_count": 22,
   "metadata": {},
   "outputs": [
    {
     "data": {
      "text/plain": [
       "array([0.76461655, 0.76139818, 0.74164134, 0.76975684, 0.75607903])"
      ]
     },
     "execution_count": 22,
     "metadata": {},
     "output_type": "execute_result"
    }
   ],
   "source": [
    "# Cross validation score (NaiveBayes)\n",
    "score = cross_val_score(NaiveBayes,features,target,cv=5)\n",
    "score"
   ]
  },
  {
   "cell_type": "markdown",
   "metadata": {},
   "source": [
    "# Logistic Regression"
   ]
  },
  {
   "cell_type": "code",
   "execution_count": 23,
   "metadata": {},
   "outputs": [
    {
     "name": "stdout",
     "output_type": "stream",
     "text": [
      "Logistic Regression's Accuracy is:  0.7061503416856492\n",
      "              precision    recall  f1-score   support\n",
      "\n",
      "           0       0.00      0.00      0.00         1\n",
      "           1       0.00      0.00      0.00         2\n",
      "           2       0.51      1.00      0.68        21\n",
      "           3       0.00      0.00      0.00        32\n",
      "           4       0.00      0.00      0.00         9\n",
      "           5       0.72      1.00      0.84        18\n",
      "           6       1.00      1.00      1.00        13\n",
      "           7       1.00      1.00      1.00        62\n",
      "           8       0.00      0.00      0.00         1\n",
      "           9       0.70      0.47      0.56        15\n",
      "          10       0.00      0.00      0.00         7\n",
      "          12       0.00      0.00      0.00         1\n",
      "          13       0.00      0.00      0.00         1\n",
      "          14       0.00      0.00      0.00         3\n",
      "          15       1.00      1.00      1.00        22\n",
      "          16       0.72      0.97      0.82        29\n",
      "          17       0.33      1.00      0.49        17\n",
      "          18       0.00      0.00      0.00        10\n",
      "          19       0.00      0.00      0.00         2\n",
      "          20       0.00      0.00      0.00        13\n",
      "          21       0.00      0.00      0.00        11\n",
      "          22       0.00      0.00      0.00         2\n",
      "          23       0.50      1.00      0.67         6\n",
      "          24       0.36      0.21      0.27        19\n",
      "          25       0.87      1.00      0.93        13\n",
      "          26       0.00      0.00      0.00         4\n",
      "          27       1.00      1.00      1.00        29\n",
      "          28       0.00      0.00      0.00         5\n",
      "          29       0.00      0.00      0.00        15\n",
      "          31       0.00      0.00      0.00        11\n",
      "          32       0.83      1.00      0.91       103\n",
      "          33       0.00      0.00      0.00         2\n",
      "          34       0.00      0.00      0.00         5\n",
      "          35       1.00      0.38      0.55        16\n",
      "          36       0.79      0.98      0.87        53\n",
      "          37       0.00      0.00      0.00         8\n",
      "          38       0.00      0.00      0.00         1\n",
      "          39       0.00      0.00      0.00         2\n",
      "          40       0.47      0.50      0.49        18\n",
      "          41       0.64      1.00      0.78        47\n",
      "          42       0.00      0.00      0.00        26\n",
      "          43       1.00      1.00      1.00        25\n",
      "          44       1.00      1.00      1.00        52\n",
      "          45       0.00      0.00      0.00        15\n",
      "          46       0.00      0.00      0.00         3\n",
      "          47       0.00      0.00      0.00         1\n",
      "          49       0.00      0.00      0.00         3\n",
      "          50       0.98      1.00      0.99        47\n",
      "          51       0.00      0.00      0.00         4\n",
      "          52       0.00      0.00      0.00         1\n",
      "          53       0.00      0.00      0.00         3\n",
      "          54       0.00      0.00      0.00         1\n",
      "          55       0.76      1.00      0.86        32\n",
      "          56       0.00      0.00      0.00         1\n",
      "          57       0.49      1.00      0.66        20\n",
      "          58       1.00      1.00      1.00        13\n",
      "          59       0.14      0.90      0.24        20\n",
      "          60       0.00      0.00      0.00         2\n",
      "          61       0.00      0.00      0.00         1\n",
      "          63       0.00      0.00      0.00        11\n",
      "          64       0.00      0.00      0.00         2\n",
      "          67       0.00      0.00      0.00         4\n",
      "          68       0.00      0.00      0.00         2\n",
      "          69       0.00      0.00      0.00        11\n",
      "          70       0.14      0.09      0.11        11\n",
      "          71       0.00      0.00      0.00         4\n",
      "          72       0.00      0.00      0.00         1\n",
      "          73       0.00      0.00      0.00         2\n",
      "          76       0.57      0.62      0.59        13\n",
      "          77       0.00      0.00      0.00         3\n",
      "          78       0.00      0.00      0.00         1\n",
      "          80       0.00      0.00      0.00         5\n",
      "          81       0.00      0.00      0.00         1\n",
      "          82       0.65      1.00      0.78        31\n",
      "          83       0.00      0.00      0.00         8\n",
      "          84       0.00      0.00      0.00        13\n",
      "          85       0.00      0.00      0.00         1\n",
      "          86       0.00      0.00      0.00        11\n",
      "          87       1.00      1.00      1.00        54\n",
      "          88       0.96      1.00      0.98        54\n",
      "          89       0.00      0.00      0.00        11\n",
      "          90       0.00      0.00      0.00         5\n",
      "          91       0.00      0.00      0.00         3\n",
      "          92       0.72      0.94      0.82        36\n",
      "          93       1.00      1.00      1.00        11\n",
      "          94       1.00      1.00      1.00        19\n",
      "          95       1.00      1.00      1.00        15\n",
      "          96       0.90      1.00      0.95         9\n",
      "          97       0.70      1.00      0.82        16\n",
      "          98       0.39      0.82      0.53        17\n",
      "          99       0.00      0.00      0.00         9\n",
      "         100       0.00      0.00      0.00         4\n",
      "\n",
      "    accuracy                           0.71      1317\n",
      "   macro avg       0.29      0.35      0.31      1317\n",
      "weighted avg       0.60      0.71      0.64      1317\n",
      "\n"
     ]
    }
   ],
   "source": [
    "from sklearn.linear_model import LogisticRegression\n",
    "\n",
    "LogReg = LogisticRegression(random_state=2)\n",
    "\n",
    "LogReg.fit(Xtrain,Ytrain)\n",
    "\n",
    "predicted_values = LogReg.predict(Xtest)\n",
    "\n",
    "x = metrics.accuracy_score(Ytest, predicted_values)\n",
    "acc.append(x)\n",
    "model.append('Logistic Regression')\n",
    "print(\"Logistic Regression's Accuracy is: \", x)\n",
    "\n",
    "print(classification_report(Ytest,predicted_values))"
   ]
  },
  {
   "cell_type": "code",
   "execution_count": 24,
   "metadata": {},
   "outputs": [
    {
     "data": {
      "text/plain": [
       "array([0.71678056, 0.70440729, 0.73556231, 0.72796353, 0.72340426])"
      ]
     },
     "execution_count": 24,
     "metadata": {},
     "output_type": "execute_result"
    }
   ],
   "source": [
    "# Cross validation score (Logistic Regression)\n",
    "score = cross_val_score(LogReg,features,target,cv=5)\n",
    "score"
   ]
  },
  {
   "cell_type": "markdown",
   "metadata": {},
   "source": [
    "# Random Forest"
   ]
  },
  {
   "cell_type": "code",
   "execution_count": 25,
   "metadata": {},
   "outputs": [
    {
     "name": "stdout",
     "output_type": "stream",
     "text": [
      "RF's Accuracy is:  0.7479119210326499\n",
      "              precision    recall  f1-score   support\n",
      "\n",
      "           0       0.00      0.00      0.00         1\n",
      "           1       0.67      1.00      0.80         2\n",
      "           2       0.65      0.62      0.63        21\n",
      "           3       0.30      0.22      0.25        32\n",
      "           4       0.00      0.00      0.00         9\n",
      "           5       1.00      1.00      1.00        18\n",
      "           6       1.00      1.00      1.00        13\n",
      "           7       1.00      1.00      1.00        62\n",
      "           8       1.00      1.00      1.00         1\n",
      "           9       0.78      0.47      0.58        15\n",
      "          10       0.00      0.00      0.00         7\n",
      "          12       0.00      0.00      0.00         1\n",
      "          13       0.00      0.00      0.00         1\n",
      "          14       0.00      0.00      0.00         3\n",
      "          15       1.00      1.00      1.00        22\n",
      "          16       1.00      1.00      1.00        29\n",
      "          17       0.31      0.47      0.37        17\n",
      "          18       0.00      0.00      0.00        10\n",
      "          19       0.00      0.00      0.00         2\n",
      "          20       0.23      0.23      0.23        13\n",
      "          21       0.00      0.00      0.00        11\n",
      "          22       0.00      0.00      0.00         2\n",
      "          23       0.57      0.67      0.62         6\n",
      "          24       0.47      0.37      0.41        19\n",
      "          25       1.00      1.00      1.00        13\n",
      "          26       1.00      0.75      0.86         4\n",
      "          27       1.00      1.00      1.00        29\n",
      "          28       0.17      0.20      0.18         5\n",
      "          29       0.07      0.07      0.07        15\n",
      "          31       0.62      0.45      0.53        11\n",
      "          32       1.00      1.00      1.00       103\n",
      "          33       0.00      0.00      0.00         2\n",
      "          34       0.00      0.00      0.00         5\n",
      "          35       1.00      1.00      1.00        16\n",
      "          36       1.00      1.00      1.00        53\n",
      "          37       1.00      1.00      1.00         8\n",
      "          38       0.00      0.00      0.00         1\n",
      "          39       1.00      1.00      1.00         2\n",
      "          40       0.44      0.39      0.41        18\n",
      "          41       0.63      0.94      0.75        47\n",
      "          42       0.00      0.00      0.00        26\n",
      "          43       1.00      1.00      1.00        25\n",
      "          44       1.00      1.00      1.00        52\n",
      "          45       0.07      0.07      0.07        15\n",
      "          46       0.00      0.00      0.00         3\n",
      "          47       0.00      0.00      0.00         1\n",
      "          49       1.00      1.00      1.00         3\n",
      "          50       1.00      1.00      1.00        47\n",
      "          51       1.00      1.00      1.00         4\n",
      "          52       0.00      0.00      0.00         1\n",
      "          53       0.00      0.00      0.00         3\n",
      "          54       0.00      0.00      0.00         1\n",
      "          55       1.00      1.00      1.00        32\n",
      "          56       1.00      1.00      1.00         1\n",
      "          57       0.45      0.50      0.48        20\n",
      "          58       1.00      1.00      1.00        13\n",
      "          59       0.16      0.40      0.23        20\n",
      "          60       0.00      0.00      0.00         2\n",
      "          61       0.00      0.00      0.00         1\n",
      "          62       0.00      0.00      0.00         0\n",
      "          63       0.10      0.09      0.10        11\n",
      "          64       0.00      0.00      0.00         2\n",
      "          67       0.00      0.00      0.00         4\n",
      "          68       0.00      0.00      0.00         2\n",
      "          69       1.00      1.00      1.00        11\n",
      "          70       0.20      0.27      0.23        11\n",
      "          71       0.00      0.00      0.00         4\n",
      "          72       0.00      0.00      0.00         1\n",
      "          73       1.00      1.00      1.00         2\n",
      "          76       0.57      0.62      0.59        13\n",
      "          77       0.29      0.67      0.40         3\n",
      "          78       0.00      0.00      0.00         1\n",
      "          79       0.00      0.00      0.00         0\n",
      "          80       0.25      0.20      0.22         5\n",
      "          81       0.00      0.00      0.00         1\n",
      "          82       0.72      0.94      0.82        31\n",
      "          83       1.00      1.00      1.00         8\n",
      "          84       0.06      0.08      0.07        13\n",
      "          85       0.00      0.00      0.00         1\n",
      "          86       0.09      0.09      0.09        11\n",
      "          87       1.00      1.00      1.00        54\n",
      "          88       1.00      1.00      1.00        54\n",
      "          89       0.25      0.09      0.13        11\n",
      "          90       1.00      1.00      1.00         5\n",
      "          91       1.00      1.00      1.00         3\n",
      "          92       1.00      1.00      1.00        36\n",
      "          93       1.00      1.00      1.00        11\n",
      "          94       1.00      1.00      1.00        19\n",
      "          95       1.00      1.00      1.00        15\n",
      "          96       1.00      1.00      1.00         9\n",
      "          97       1.00      1.00      1.00        16\n",
      "          98       0.52      0.65      0.58        17\n",
      "          99       0.39      0.78      0.52         9\n",
      "         100       0.00      0.00      0.00         4\n",
      "\n",
      "    accuracy                           0.75      1317\n",
      "   macro avg       0.48      0.49      0.48      1317\n",
      "weighted avg       0.73      0.75      0.73      1317\n",
      "\n"
     ]
    }
   ],
   "source": [
    "from sklearn.ensemble import RandomForestClassifier\n",
    "\n",
    "RF = RandomForestClassifier(n_estimators=20, random_state=0)\n",
    "RF.fit(Xtrain,Ytrain)\n",
    "\n",
    "predicted_values = RF.predict(Xtest)\n",
    "\n",
    "x = metrics.accuracy_score(Ytest, predicted_values)\n",
    "acc.append(x)\n",
    "model.append('RF')\n",
    "print(\"RF's Accuracy is: \", x)\n",
    "\n",
    "print(classification_report(Ytest,predicted_values))"
   ]
  },
  {
   "cell_type": "code",
   "execution_count": 26,
   "metadata": {},
   "outputs": [
    {
     "data": {
      "text/plain": [
       "array([0.74867122, 0.7393617 , 0.74620061, 0.74696049, 0.75607903])"
      ]
     },
     "execution_count": 26,
     "metadata": {},
     "output_type": "execute_result"
    }
   ],
   "source": [
    "# Cross validation score (Random Forest)\n",
    "score = cross_val_score(RF,features,target,cv=5)\n",
    "score"
   ]
  },
  {
   "cell_type": "markdown",
   "metadata": {},
   "source": [
    "### Saving trained Random Forest model"
   ]
  },
  {
   "cell_type": "code",
   "execution_count": 27,
   "metadata": {},
   "outputs": [],
   "source": [
    "# import pickle\n",
    "# # Dump the trained Naive Bayes classifier with Pickle\n",
    "# RF_pkl_filename = '../models/RandomForest.pkl'\n",
    "# # Open the file to save as pkl file\n",
    "# RF_Model_pkl = open(RF_pkl_filename, 'wb')\n",
    "# pickle.dump(RF, RF_Model_pkl)\n",
    "# # Close the pickle instances\n",
    "# RF_Model_pkl.close()"
   ]
  },
  {
   "cell_type": "markdown",
   "metadata": {},
   "source": [
    "# XGBoost"
   ]
  },
  {
   "cell_type": "code",
   "execution_count": 28,
   "metadata": {},
   "outputs": [
    {
     "name": "stdout",
     "output_type": "stream",
     "text": [
      "Requirement already satisfied: xgboost in /Users/jayasakthibalajig/Sakthi/Anaconda/anaconda3/lib/python3.11/site-packages (2.1.2)\n",
      "Requirement already satisfied: numpy in /Users/jayasakthibalajig/Sakthi/Anaconda/anaconda3/lib/python3.11/site-packages (from xgboost) (1.26.4)\n",
      "Requirement already satisfied: scipy in /Users/jayasakthibalajig/Sakthi/Anaconda/anaconda3/lib/python3.11/site-packages (from xgboost) (1.11.4)\n",
      "Note: you may need to restart the kernel to use updated packages.\n"
     ]
    }
   ],
   "source": [
    "pip install xgboost"
   ]
  },
  {
   "cell_type": "code",
   "execution_count": 29,
   "metadata": {
    "scrolled": true
   },
   "outputs": [
    {
     "name": "stdout",
     "output_type": "stream",
     "text": [
      "XGBoost's Accuracy is:  0.6408504176157934\n",
      "              precision    recall  f1-score   support\n",
      "\n",
      "           0       0.00      0.00      0.00         1\n",
      "           1       0.00      0.00      0.00         2\n",
      "           2       0.58      1.00      0.74        21\n",
      "           3       0.23      0.41      0.29        32\n",
      "           4       0.00      0.00      0.00         9\n",
      "           5       0.90      1.00      0.95        18\n",
      "           6       0.93      1.00      0.96        13\n",
      "           7       0.95      1.00      0.98        62\n",
      "           8       0.00      0.00      0.00         1\n",
      "           9       0.00      0.00      0.00        15\n",
      "          10       0.00      0.00      0.00         7\n",
      "          12       0.00      0.00      0.00         1\n",
      "          13       0.00      0.00      0.00         1\n",
      "          14       0.00      0.00      0.00         3\n",
      "          15       0.43      1.00      0.60        22\n",
      "          16       0.52      1.00      0.68        29\n",
      "          17       0.00      0.00      0.00        17\n",
      "          18       0.00      0.00      0.00        10\n",
      "          19       0.00      0.00      0.00         2\n",
      "          20       0.00      0.00      0.00        13\n",
      "          21       0.00      0.00      0.00        11\n",
      "          22       0.00      0.00      0.00         2\n",
      "          23       0.00      0.00      0.00         6\n",
      "          24       0.00      0.00      0.00        19\n",
      "          25       0.87      1.00      0.93        13\n",
      "          26       0.00      0.00      0.00         4\n",
      "          27       0.91      1.00      0.95        29\n",
      "          28       0.00      0.00      0.00         5\n",
      "          29       0.00      0.00      0.00        15\n",
      "          31       0.00      0.00      0.00        11\n",
      "          32       0.94      1.00      0.97       103\n",
      "          33       0.00      0.00      0.00         2\n",
      "          34       0.00      0.00      0.00         5\n",
      "          35       0.00      0.00      0.00        16\n",
      "          36       0.91      1.00      0.95        53\n",
      "          37       0.00      0.00      0.00         8\n",
      "          38       0.00      0.00      0.00         1\n",
      "          39       0.00      0.00      0.00         2\n",
      "          40       0.00      0.00      0.00        18\n",
      "          41       0.62      0.94      0.75        47\n",
      "          42       0.00      0.00      0.00        26\n",
      "          43       0.96      1.00      0.98        25\n",
      "          44       0.91      1.00      0.95        52\n",
      "          45       0.00      0.00      0.00        15\n",
      "          46       0.00      0.00      0.00         3\n",
      "          47       0.00      0.00      0.00         1\n",
      "          49       0.00      0.00      0.00         3\n",
      "          50       0.87      1.00      0.93        47\n",
      "          51       0.00      0.00      0.00         4\n",
      "          52       0.00      0.00      0.00         1\n",
      "          53       0.00      0.00      0.00         3\n",
      "          54       0.00      0.00      0.00         1\n",
      "          55       0.94      0.97      0.95        32\n",
      "          56       0.00      0.00      0.00         1\n",
      "          57       0.00      0.00      0.00        20\n",
      "          58       1.00      1.00      1.00        13\n",
      "          59       0.14      0.40      0.21        20\n",
      "          60       0.00      0.00      0.00         2\n",
      "          61       0.00      0.00      0.00         1\n",
      "          63       0.00      0.00      0.00        11\n",
      "          64       0.00      0.00      0.00         2\n",
      "          67       0.00      0.00      0.00         4\n",
      "          68       0.00      0.00      0.00         2\n",
      "          69       0.00      0.00      0.00        11\n",
      "          70       0.00      0.00      0.00        11\n",
      "          71       0.00      0.00      0.00         4\n",
      "          72       0.00      0.00      0.00         1\n",
      "          73       0.00      0.00      0.00         2\n",
      "          76       0.57      1.00      0.72        13\n",
      "          77       0.00      0.00      0.00         3\n",
      "          78       0.00      0.00      0.00         1\n",
      "          80       0.00      0.00      0.00         5\n",
      "          81       0.00      0.00      0.00         1\n",
      "          82       0.48      0.94      0.63        31\n",
      "          83       0.00      0.00      0.00         8\n",
      "          84       0.09      0.15      0.11        13\n",
      "          85       0.00      0.00      0.00         1\n",
      "          86       0.00      0.00      0.00        11\n",
      "          87       0.83      1.00      0.91        54\n",
      "          88       1.00      1.00      1.00        54\n",
      "          89       0.00      0.00      0.00        11\n",
      "          90       0.00      0.00      0.00         5\n",
      "          91       0.00      0.00      0.00         3\n",
      "          92       0.88      1.00      0.94        36\n",
      "          93       0.00      0.00      0.00        11\n",
      "          94       0.95      1.00      0.97        19\n",
      "          95       0.00      0.00      0.00        15\n",
      "          96       0.90      1.00      0.95         9\n",
      "          97       0.84      1.00      0.91        16\n",
      "          98       0.39      0.94      0.55        17\n",
      "          99       0.00      0.00      0.00         9\n",
      "         100       0.00      0.00      0.00         4\n",
      "\n",
      "    accuracy                           0.64      1317\n",
      "   macro avg       0.22      0.28      0.24      1317\n",
      "weighted avg       0.53      0.64      0.57      1317\n",
      "\n"
     ]
    }
   ],
   "source": [
    "import xgboost as xgb\n",
    "XB = xgb.XGBClassifier()\n",
    "XB.fit(Xtrain,Ytrain)\n",
    "\n",
    "predicted_values = XB.predict(Xtest)\n",
    "\n",
    "x = metrics.accuracy_score(Ytest, predicted_values)\n",
    "acc.append(x)\n",
    "model.append('XGBoost')\n",
    "print(\"XGBoost's Accuracy is: \", x)\n",
    "\n",
    "print(classification_report(Ytest,predicted_values))"
   ]
  },
  {
   "cell_type": "code",
   "execution_count": 30,
   "metadata": {},
   "outputs": [
    {
     "data": {
      "text/plain": [
       "array([       nan,        nan, 0.74924012, 0.76215805,        nan])"
      ]
     },
     "execution_count": 30,
     "metadata": {},
     "output_type": "execute_result"
    }
   ],
   "source": [
    "# Cross validation score (XGBoost)\n",
    "score = cross_val_score(XB,features,target,cv=5)\n",
    "score"
   ]
  },
  {
   "cell_type": "markdown",
   "metadata": {},
   "source": [
    "## Accuracy Comparison"
   ]
  },
  {
   "cell_type": "code",
   "execution_count": 31,
   "metadata": {},
   "outputs": [
    {
     "data": {
      "text/plain": [
       "<Axes: title={'center': 'Accuracy Comparison'}, xlabel='Accuracy', ylabel='Algorithm'>"
      ]
     },
     "execution_count": 31,
     "metadata": {},
     "output_type": "execute_result"
    },
    {
     "data": {
      "image/png": "[encoded data removed]",
      "text/plain": [
       "<Figure size 1000x500 with 1 Axes>"
      ]
     },
     "metadata": {},
     "output_type": "display_data"
    }
   ],
   "source": [
    "plt.figure(figsize=[10,5],dpi = 100)\n",
    "plt.title('Accuracy Comparison')\n",
    "plt.xlabel('Accuracy')\n",
    "plt.ylabel('Algorithm')\n",
    "sns.barplot(x = acc,y = model,palette='dark')"
   ]
  },
  {
   "cell_type": "code",
   "execution_count": 32,
   "metadata": {},
   "outputs": [
    {
     "name": "stdout",
     "output_type": "stream",
     "text": [
      "Decision Tree --> 0.6256643887623387\n",
      "SVM --> 0.768413059984814\n",
      "Naive Bayes --> 0.7593014426727411\n",
      "Logistic Regression --> 0.7061503416856492\n",
      "RF --> 0.7479119210326499\n",
      "XGBoost --> 0.6408504176157934\n"
     ]
    }
   ],
   "source": [
    "accuracy_models = dict(zip(model, acc))\n",
    "for k, v in accuracy_models.items():\n",
    "    print (k, '-->', v)"
   ]
  }
 ],
 "metadata": {
  "kernelspec": {
   "display_name": "Python 3 (ipykernel)",
   "language": "python",
   "name": "python3"
  },
  "language_info": {
   "codemirror_mode": {
    "name": "ipython",
    "version": 3
   },
   "file_extension": ".py",
   "mimetype": "text/x-python",
   "name": "python",
   "nbconvert_exporter": "python",
   "pygments_lexer": "ipython3",
   "version": "3.11.7"
  }
 },
 "nbformat": 4,
 "nbformat_minor": 4
}
